{
 "cells": [
  {
   "cell_type": "code",
   "execution_count": 1,
   "metadata": {},
   "outputs": [],
   "source": [
    "%load_ext autoreload\n",
    "%autoreload 2"
   ]
  },
  {
   "cell_type": "markdown",
   "metadata": {},
   "source": [
    "# **Imports**"
   ]
  },
  {
   "cell_type": "code",
   "execution_count": 2,
   "metadata": {},
   "outputs": [],
   "source": [
    "from getModel import blModel, eeModel, eeModel_V0, eeModel_V1, eeModel_V2, eeModel_V3\n",
    "\n",
    "import torch\n",
    "import torch.nn as nn\n",
    "import torch.nn.functional as F\n",
    "import numpy as np\n",
    "from sklearn.model_selection import StratifiedShuffleSplit\n",
    "import matplotlib.pyplot as plt\n",
    "import copy\n",
    "\n",
    "import torchvision.transforms as T\n",
    "import pickle\n",
    "from torch.utils.data import DataLoader\n",
    "\n",
    "import matplotlib.pyplot as plt"
   ]
  },
  {
   "cell_type": "markdown",
   "metadata": {},
   "source": [
    "# **Self-supervised learning solutions**\n",
    "\n",
    "We will experiment with these solutions with promising results in speech and RF signal tasks\n",
    "- BYOL (Bootstrap Your Own Latent)\n",
    "- SimCLR (Simple Constrastive Learning)\n",
    "- MoCo-v3 (Momentum Constrast)\n",
    "- DINO (Self-distillation with No labels)"
   ]
  },
  {
   "cell_type": "markdown",
   "metadata": {},
   "source": [
    "## **BYOL**"
   ]
  },
  {
   "cell_type": "code",
   "execution_count": 3,
   "metadata": {},
   "outputs": [],
   "source": [
    "from lightly.models.modules import BYOLProjectionHead, BYOLPredictionHead\n",
    "from lightly.transforms.byol_transform import BYOLTransform\n",
    "from lightly.utils.scheduler import cosine_schedule\n",
    "from lightly.models.utils import deactivate_requires_grad, update_momentum\n",
    "import transforms as RST"
   ]
  },
  {
   "cell_type": "code",
   "execution_count": 4,
   "metadata": {},
   "outputs": [],
   "source": [
    "class BYOLR(nn.Module):\n",
    "    def __init__(self, backbone, feature_dim=256):\n",
    "        super(BYOLR, self).__init__()\n",
    "\n",
    "        self.online_encoder = backbone\n",
    "        self.projection_head = BYOLProjectionHead(\n",
    "            input_dim=feature_dim, hidden_dim=1024, output_dim=feature_dim)\n",
    "        self.prediction_head = BYOLPredictionHead(\n",
    "            input_dim=feature_dim, hidden_dim=1024, output_dim=feature_dim)\n",
    "\n",
    "        self.target_encoder = copy.deepcopy(self.online_encoder)\n",
    "        self.target_projection_head = copy.deepcopy(self.projection_head)\n",
    "\n",
    "        # deactivate the requires_grad for the target encoder pipeline\n",
    "        deactivate_requires_grad(self.target_encoder)\n",
    "        deactivate_requires_grad(self.target_projection_head)\n",
    "\n",
    "    def forward(self, x):\n",
    "        # forward pass for the online encoder\n",
    "        rep = self.online_encoder(x).flatten(start_dim=1)\n",
    "        proj = self.projection_head(rep)\n",
    "        pred = self.prediction_head(proj)\n",
    "        return pred\n",
    "\n",
    "    def forward_target(self, x):\n",
    "        # forward pass for the target encoder\n",
    "        rep = self.target_encoder(x).flatten(start_dim=1)\n",
    "        proj = self.target_projection_head(rep)\n",
    "        proj = proj.detach()\n",
    "        return proj"
   ]
  },
  {
   "cell_type": "code",
   "execution_count": 5,
   "metadata": {},
   "outputs": [],
   "source": [
    "backbone = blModel()\n",
    "backbone = nn.Sequential(*list(backbone.children())[:-1])\n",
    "byol_model = BYOLR(backbone)"
   ]
  },
  {
   "cell_type": "markdown",
   "metadata": {},
   "source": [
    "## **SimCLR**"
   ]
  },
  {
   "cell_type": "code",
   "execution_count": 6,
   "metadata": {},
   "outputs": [],
   "source": [
    "from lightly.models.modules import SimCLRProjectionHead"
   ]
  },
  {
   "cell_type": "code",
   "execution_count": 7,
   "metadata": {},
   "outputs": [],
   "source": [
    "class SimCLR(nn.Module):\n",
    "    def __init__(self, backbone):\n",
    "        super().__init__()\n",
    "        self.backbone = backbone\n",
    "        self.projection_head = SimCLRProjectionHead(256, 512, 128)\n",
    "\n",
    "    def forward(self, x):\n",
    "        x = self.backbone(x).flatten(start_dim=1)\n",
    "        z = self.projection_head(x)\n",
    "        return z"
   ]
  },
  {
   "cell_type": "code",
   "execution_count": 8,
   "metadata": {},
   "outputs": [],
   "source": [
    "simclr_model = SimCLR(backbone)"
   ]
  },
  {
   "cell_type": "markdown",
   "metadata": {},
   "source": [
    "# **Data**\n",
    "\n",
    "Read synthetic data for signal classification and signal denoising task"
   ]
  },
  {
   "cell_type": "markdown",
   "metadata": {},
   "source": [
    "## **Signal Classification**"
   ]
  },
  {
   "cell_type": "code",
   "execution_count": 9,
   "metadata": {},
   "outputs": [],
   "source": [
    "with open('./Data/RML22.pickle.01A', 'rb') as f:\n",
    "    data = pickle.load(f, encoding=\"latin1\")"
   ]
  },
  {
   "cell_type": "code",
   "execution_count": 10,
   "metadata": {},
   "outputs": [],
   "source": [
    "mods = [lst[0] for lst in data.keys()]\n",
    "snrs = [lst[1] for lst in data.keys()]"
   ]
  },
  {
   "cell_type": "code",
   "execution_count": 11,
   "metadata": {},
   "outputs": [
    {
     "data": {
      "text/plain": [
       "(210, 210)"
      ]
     },
     "execution_count": 11,
     "metadata": {},
     "output_type": "execute_result"
    }
   ],
   "source": [
    "len(mods), len(snrs)"
   ]
  },
  {
   "cell_type": "code",
   "execution_count": 12,
   "metadata": {},
   "outputs": [
    {
     "data": {
      "text/plain": [
       "(420000, 2, 128)"
      ]
     },
     "execution_count": 12,
     "metadata": {},
     "output_type": "execute_result"
    }
   ],
   "source": [
    "dataset = []\n",
    "for mod, snr in zip(mods, snrs):\n",
    "    # print(data[(mod, snr)].shape, mod, snr)\n",
    "    dataset.extend(data[(mod, snr)])\n",
    "\n",
    "dataset = np.array(dataset)\n",
    "dataset.shape  # (210*2000, 2, 128)"
   ]
  },
  {
   "cell_type": "code",
   "execution_count": 13,
   "metadata": {},
   "outputs": [],
   "source": [
    "num_classes = len(set(mods))\n",
    "name2label = {name: i for i, name in enumerate(set(mods))}\n",
    "seen = set()\n",
    "seen_add = seen.add\n",
    "labels = torch.from_numpy(np.array(\n",
    "    [name2label[name] for name in mods]))\n",
    "labels = torch.repeat_interleave(labels, 2000)"
   ]
  },
  {
   "cell_type": "code",
   "execution_count": 14,
   "metadata": {},
   "outputs": [],
   "source": [
    "class IQDataset:\n",
    "    def __init__(self, x, y, transform_x=None, transform_y=None):\n",
    "        self.x = x\n",
    "        self.y = y\n",
    "        self.transform_x = transform_x\n",
    "        self.transform_y = transform_y\n",
    "\n",
    "    def __len__(self):\n",
    "        return len(self.x)\n",
    "\n",
    "    def __getitem__(self, idx):\n",
    "        x = self.x[idx]\n",
    "        y = self.y[idx]\n",
    "        if self.transform_x:\n",
    "            x = self.transform_x(x)\n",
    "        elif isinstance(x, np.ndarray):\n",
    "            x = torch.from_numpy(x)\n",
    "        if self.transform_y:\n",
    "            y = self.transform_y(y)\n",
    "        elif isinstance(y, np.ndarray):\n",
    "            y = torch.from_numpy(y)\n",
    "        return x, y"
   ]
  },
  {
   "cell_type": "code",
   "execution_count": 15,
   "metadata": {},
   "outputs": [],
   "source": [
    "# transforms\n",
    "txforms = T.Compose([\n",
    "    T.Lambda(lambda x: torch.from_numpy(x).float()),\n",
    "    RST.RandomResample(max_rate=8),\n",
    "    RST.RandomDCShift(max_shift=3),\n",
    "    RST.RandomAmplitudeScale(scale_factor=0.1),\n",
    "    # RST.RandomPhaseShift(),\n",
    "    # RST.RandomFrequencyShift(),\n",
    "    RST.RandomZeroMasking(max_mask_size=32, dim=-1),\n",
    "    RST.RandomTimeShift(max_shift=16),\n",
    "    # RST.TimeReversal(),\n",
    "    # RST.RandomAddNoise(std=0.001)\n",
    "    RST.RandomTimeCrop(crop_size=128),  # without time crop we face the problem of different lengths # noqa\n",
    "])\n",
    "\n",
    "transforms = BYOLTransform(\n",
    "    view_1_transform=txforms,\n",
    "    view_2_transform=txforms\n",
    ")"
   ]
  },
  {
   "cell_type": "code",
   "execution_count": 16,
   "metadata": {},
   "outputs": [
    {
     "data": {
      "text/plain": [
       "(252000, 252000, 168000)"
      ]
     },
     "execution_count": 16,
     "metadata": {},
     "output_type": "execute_result"
    }
   ],
   "source": [
    "sss = StratifiedShuffleSplit(n_splits=2, test_size=0.4, random_state=0)\n",
    "dev_idx, val_idx = next(sss.split(dataset, labels))\n",
    "\n",
    "ssl_data = IQDataset(\n",
    "    dataset[dev_idx], labels[dev_idx], transform_x=transforms)\n",
    "train_data = IQDataset(\n",
    "    dataset[dev_idx], labels[dev_idx])\n",
    "val_data = IQDataset(\n",
    "    dataset[val_idx], labels[val_idx])\n",
    "\n",
    "len(ssl_data), len(train_data), len(val_data)"
   ]
  },
  {
   "cell_type": "code",
   "execution_count": 17,
   "metadata": {},
   "outputs": [
    {
     "data": {
      "text/plain": [
       "(torch.Size([2, 128]), torch.Size([2, 128]))"
      ]
     },
     "execution_count": 17,
     "metadata": {},
     "output_type": "execute_result"
    }
   ],
   "source": [
    "one_Xs, _ = ssl_data[0]\n",
    "one_x0, one_x1 = one_Xs\n",
    "one_x0.shape, one_x1.shape"
   ]
  },
  {
   "cell_type": "code",
   "execution_count": 18,
   "metadata": {},
   "outputs": [
    {
     "data": {
      "text/plain": [
       "Text(0.5, 1.0, 'View 2')"
      ]
     },
     "execution_count": 18,
     "metadata": {},
     "output_type": "execute_result"
    },
    {
     "data": {
      "image/png": "[encoded data removed]",
      "text/plain": [
       "<Figure size 1500x500 with 2 Axes>"
      ]
     },
     "metadata": {},
     "output_type": "display_data"
    }
   ],
   "source": [
    "fig = plt.figure(figsize=(15, 5))\n",
    "ax1 = fig.add_subplot(121)\n",
    "ax2 = fig.add_subplot(122)\n",
    "ax1.plot(one_x0.T, marker='o')\n",
    "ax1.set_title('View 1')\n",
    "ax2.plot(one_x1.T, marker='o')\n",
    "ax2.set_title('View 2')"
   ]
  },
  {
   "cell_type": "code",
   "execution_count": 19,
   "metadata": {},
   "outputs": [],
   "source": [
    "\n",
    "ssl_dataloader = DataLoader(\n",
    "    ssl_data, batch_size=256, shuffle=True, drop_last=True, num_workers=4)\n",
    "train_dataloader = DataLoader(\n",
    "    train_data, batch_size=256, shuffle=True, drop_last=True, num_workers=4)\n",
    "val_dataloader = DataLoader(\n",
    "    val_data, batch_size=256, shuffle=False, drop_last=False, num_workers=4)"
   ]
  },
  {
   "cell_type": "code",
   "execution_count": 20,
   "metadata": {},
   "outputs": [
    {
     "name": "stdout",
     "output_type": "stream",
     "text": [
      "torch.Size([256, 2, 128]) torch.Size([256, 2, 128])\n"
     ]
    }
   ],
   "source": [
    "for batch, _ in ssl_dataloader:\n",
    "    x0, x1 = batch\n",
    "    print(x0.shape, x1.shape)\n",
    "    break"
   ]
  },
  {
   "cell_type": "markdown",
   "metadata": {},
   "source": [
    "# **Training**"
   ]
  },
  {
   "cell_type": "markdown",
   "metadata": {},
   "source": [
    "### **BYOL**"
   ]
  },
  {
   "cell_type": "code",
   "execution_count": 21,
   "metadata": {},
   "outputs": [
    {
     "data": {
      "text/plain": [
       "BYOLR(\n",
       "  (online_encoder): Sequential(\n",
       "    (0): Sequential(\n",
       "      (0): Conv1d(2, 64, kernel_size=(3,), stride=(1,), padding=(1,))\n",
       "      (1): BatchNorm1d(64, eps=1e-05, momentum=0.1, affine=True, track_running_stats=True)\n",
       "      (2): ReLU(inplace=True)\n",
       "      (3): MaxPool1d(kernel_size=2, stride=2, padding=0, dilation=1, ceil_mode=False)\n",
       "      (4): Conv1d(64, 64, kernel_size=(3,), stride=(1,), padding=(1,))\n",
       "      (5): BatchNorm1d(64, eps=1e-05, momentum=0.1, affine=True, track_running_stats=True)\n",
       "      (6): ReLU(inplace=True)\n",
       "      (7): MaxPool1d(kernel_size=2, stride=2, padding=0, dilation=1, ceil_mode=False)\n",
       "      (8): Conv1d(64, 64, kernel_size=(3,), stride=(1,), padding=(1,))\n",
       "      (9): BatchNorm1d(64, eps=1e-05, momentum=0.1, affine=True, track_running_stats=True)\n",
       "      (10): ReLU(inplace=True)\n",
       "    )\n",
       "    (1): Sequential(\n",
       "      (0): Conv1d(64, 32, kernel_size=(3,), stride=(1,), padding=(1,))\n",
       "      (1): BatchNorm1d(32, eps=1e-05, momentum=0.1, affine=True, track_running_stats=True)\n",
       "      (2): ReLU(inplace=True)\n",
       "      (3): Conv1d(32, 32, kernel_size=(3,), stride=(1,), padding=(1,))\n",
       "      (4): BatchNorm1d(32, eps=1e-05, momentum=0.1, affine=True, track_running_stats=True)\n",
       "      (5): ReLU(inplace=True)\n",
       "      (6): Conv1d(32, 16, kernel_size=(3,), stride=(1,), padding=(1,))\n",
       "      (7): BatchNorm1d(16, eps=1e-05, momentum=0.1, affine=True, track_running_stats=True)\n",
       "      (8): ReLU(inplace=True)\n",
       "      (9): MaxPool1d(kernel_size=2, stride=2, padding=0, dilation=1, ceil_mode=False)\n",
       "      (10): Flatten(start_dim=1, end_dim=-1)\n",
       "    )\n",
       "  )\n",
       "  (projection_head): BYOLProjectionHead(\n",
       "    (layers): Sequential(\n",
       "      (0): Linear(in_features=256, out_features=1024, bias=False)\n",
       "      (1): BatchNorm1d(1024, eps=1e-05, momentum=0.1, affine=True, track_running_stats=True)\n",
       "      (2): ReLU()\n",
       "      (3): Linear(in_features=1024, out_features=256, bias=True)\n",
       "    )\n",
       "  )\n",
       "  (prediction_head): BYOLPredictionHead(\n",
       "    (layers): Sequential(\n",
       "      (0): Linear(in_features=256, out_features=1024, bias=False)\n",
       "      (1): BatchNorm1d(1024, eps=1e-05, momentum=0.1, affine=True, track_running_stats=True)\n",
       "      (2): ReLU()\n",
       "      (3): Linear(in_features=1024, out_features=256, bias=True)\n",
       "    )\n",
       "  )\n",
       "  (target_encoder): Sequential(\n",
       "    (0): Sequential(\n",
       "      (0): Conv1d(2, 64, kernel_size=(3,), stride=(1,), padding=(1,))\n",
       "      (1): BatchNorm1d(64, eps=1e-05, momentum=0.1, affine=True, track_running_stats=True)\n",
       "      (2): ReLU(inplace=True)\n",
       "      (3): MaxPool1d(kernel_size=2, stride=2, padding=0, dilation=1, ceil_mode=False)\n",
       "      (4): Conv1d(64, 64, kernel_size=(3,), stride=(1,), padding=(1,))\n",
       "      (5): BatchNorm1d(64, eps=1e-05, momentum=0.1, affine=True, track_running_stats=True)\n",
       "      (6): ReLU(inplace=True)\n",
       "      (7): MaxPool1d(kernel_size=2, stride=2, padding=0, dilation=1, ceil_mode=False)\n",
       "      (8): Conv1d(64, 64, kernel_size=(3,), stride=(1,), padding=(1,))\n",
       "      (9): BatchNorm1d(64, eps=1e-05, momentum=0.1, affine=True, track_running_stats=True)\n",
       "      (10): ReLU(inplace=True)\n",
       "    )\n",
       "    (1): Sequential(\n",
       "      (0): Conv1d(64, 32, kernel_size=(3,), stride=(1,), padding=(1,))\n",
       "      (1): BatchNorm1d(32, eps=1e-05, momentum=0.1, affine=True, track_running_stats=True)\n",
       "      (2): ReLU(inplace=True)\n",
       "      (3): Conv1d(32, 32, kernel_size=(3,), stride=(1,), padding=(1,))\n",
       "      (4): BatchNorm1d(32, eps=1e-05, momentum=0.1, affine=True, track_running_stats=True)\n",
       "      (5): ReLU(inplace=True)\n",
       "      (6): Conv1d(32, 16, kernel_size=(3,), stride=(1,), padding=(1,))\n",
       "      (7): BatchNorm1d(16, eps=1e-05, momentum=0.1, affine=True, track_running_stats=True)\n",
       "      (8): ReLU(inplace=True)\n",
       "      (9): MaxPool1d(kernel_size=2, stride=2, padding=0, dilation=1, ceil_mode=False)\n",
       "      (10): Flatten(start_dim=1, end_dim=-1)\n",
       "    )\n",
       "  )\n",
       "  (target_projection_head): BYOLProjectionHead(\n",
       "    (layers): Sequential(\n",
       "      (0): Linear(in_features=256, out_features=1024, bias=False)\n",
       "      (1): BatchNorm1d(1024, eps=1e-05, momentum=0.1, affine=True, track_running_stats=True)\n",
       "      (2): ReLU()\n",
       "      (3): Linear(in_features=1024, out_features=256, bias=True)\n",
       "    )\n",
       "  )\n",
       ")"
      ]
     },
     "execution_count": 21,
     "metadata": {},
     "output_type": "execute_result"
    }
   ],
   "source": [
    "device = \"cuda\" if torch.cuda.is_available() else \"cpu\"\n",
    "\n",
    "\n",
    "byol_model.to(device)"
   ]
  },
  {
   "cell_type": "code",
   "execution_count": 22,
   "metadata": {},
   "outputs": [
    {
     "data": {
      "text/plain": [
       "torch.Size([256, 256])"
      ]
     },
     "execution_count": 22,
     "metadata": {},
     "output_type": "execute_result"
    }
   ],
   "source": [
    "byol_model.online_encoder(x0.to(device)).shape"
   ]
  },
  {
   "cell_type": "code",
   "execution_count": 23,
   "metadata": {},
   "outputs": [],
   "source": [
    "def loss_fn(x0: torch.Tensor, x1: torch.Tensor):\n",
    "    return 2. - 2. * F.cosine_similarity(x0, x1, dim=-1).mean()"
   ]
  },
  {
   "cell_type": "code",
   "execution_count": 24,
   "metadata": {},
   "outputs": [],
   "source": [
    "classifier = nn.Sequential(\n",
    "    nn.Linear(in_features=256, out_features=256),\n",
    "    nn.Dropout(0.5),\n",
    "    nn.Linear(in_features=256, out_features=64),\n",
    "    nn.Dropout(0.5),\n",
    "    nn.Linear(in_features=64, out_features=num_classes)\n",
    ").to(device)"
   ]
  },
  {
   "cell_type": "code",
   "execution_count": 25,
   "metadata": {},
   "outputs": [],
   "source": [
    "def accuracy(y_pred, y_true):\n",
    "    return (y_pred.argmax(dim=-1) == y_true).float().mean()"
   ]
  },
  {
   "cell_type": "code",
   "execution_count": 26,
   "metadata": {},
   "outputs": [
    {
     "name": "stdout",
     "output_type": "stream",
     "text": [
      "Epoch: 0, SSL Train Loss: 1.1329467385038128\n",
      "Epoch: 0, Train Loss: 2.0228833404740665\n",
      "Epoch: 0, Validation Loss: 1.9636392618786074\n",
      "Epoch: 1, SSL Train Loss: 0.8245300172063393\n",
      "Epoch: 1, Train Loss: 1.847905100239971\n",
      "Epoch: 1, Validation Loss: 1.7986861764931061\n",
      "Epoch: 2, SSL Train Loss: 0.8125394535500828\n",
      "Epoch: 2, Train Loss: 1.7384017850083064\n",
      "Epoch: 2, Validation Loss: 1.6818015767740513\n",
      "Epoch: 3, SSL Train Loss: 0.8038522668970309\n",
      "Epoch: 3, Train Loss: 1.6578845047369235\n",
      "Epoch: 3, Validation Loss: 1.6066515409420252\n",
      "Epoch: 4, SSL Train Loss: 0.780314391706048\n",
      "Epoch: 4, Train Loss: 1.5901017634849237\n",
      "Epoch: 4, Validation Loss: 1.5521352944308764\n",
      "Epoch: 5, SSL Train Loss: 0.7460566011628484\n",
      "Epoch: 5, Train Loss: 1.5652249792242439\n",
      "Epoch: 5, Validation Loss: 1.5131182456488297\n",
      "Epoch: 6, SSL Train Loss: 0.7247392454040729\n",
      "Epoch: 6, Train Loss: 1.545836881529994\n",
      "Epoch: 6, Validation Loss: 1.5013621336067466\n",
      "Epoch: 7, SSL Train Loss: 0.7079331000161365\n",
      "Epoch: 7, Train Loss: 1.5537606928406693\n",
      "Epoch: 7, Validation Loss: 1.5065379594558994\n",
      "Epoch: 8, SSL Train Loss: 0.7015025234077035\n",
      "Epoch: 8, Train Loss: 1.5299105263822448\n",
      "Epoch: 8, Validation Loss: 1.4817994181605416\n",
      "Epoch: 9, SSL Train Loss: 0.6982320190929785\n",
      "Epoch: 9, Train Loss: 1.5235806272281864\n",
      "Epoch: 9, Validation Loss: 1.4738234399479093\n"
     ]
    }
   ],
   "source": [
    "critertion = loss_fn\n",
    "byol_optimizer = torch.optim.Adam(byol_model.parameters(), lr=3e-4)\n",
    "classifier_optimizer = torch.optim.Adam(classifier.parameters(), lr=1e-3)\n",
    "\n",
    "EPOCHS = 10\n",
    "\n",
    "history = {\n",
    "    \"ssl_loss\": [],\n",
    "    \"train_loss\": [],\n",
    "    \"val_loss\": [],\n",
    "    \"train_acc\": [],\n",
    "    \"val_acc\": [],\n",
    "    \"epochs\": []\n",
    "}\n",
    "\n",
    "for epoch in range(EPOCHS):\n",
    "    running_ssl_tloss = 0.0\n",
    "    running_tloss = 0.0\n",
    "    running_vloss = 0.0\n",
    "    byol_model.train()\n",
    "    classifier.train()\n",
    "    momentum_val = cosine_schedule(epoch, EPOCHS, 0.996, 1)\n",
    "    for batch, _ in ssl_dataloader:\n",
    "        x0, x1 = batch\n",
    "        update_momentum(byol_model.online_encoder,\n",
    "                        byol_model.target_encoder, m=momentum_val)\n",
    "        update_momentum(byol_model.projection_head,\n",
    "                        byol_model.target_projection_head, m=momentum_val)\n",
    "        x0, x1 = x0.to(device), x1.to(device)\n",
    "        byol_optimizer.zero_grad()\n",
    "        # Stage 1\n",
    "        # v0 -> backbone -> projection_head -> prediction_head -> p0\n",
    "        # v1 -> target_backbone -> target_projection_head -> z1\n",
    "        # Stage 2\n",
    "        # v1 -> backbone -> projection_head -> prediction_head -> p1\n",
    "        # v0 -> target_backbone -> target_projection_head -> z0\n",
    "        # Symmetric loss\n",
    "        # loss = loss_fn(p0, z1) + loss_fn(p1, z0)\n",
    "        p0 = byol_model(x0)\n",
    "        z1 = byol_model.forward_target(x1)\n",
    "        p1 = byol_model(x1)\n",
    "        z0 = byol_model.forward_target(x0)\n",
    "        loss = critertion(p0, z1) + critertion(p1, z0)\n",
    "        loss.backward()\n",
    "        byol_optimizer.step()\n",
    "        running_ssl_tloss += loss.item()\n",
    "\n",
    "    avg_tloss = running_ssl_tloss / len(train_dataloader)\n",
    "    print(f\"Epoch: {epoch}\\n\\tSSL Train Loss: {avg_tloss}\")\n",
    "    history['ssl_loss'].append(avg_tloss)\n",
    "\n",
    "    # validate SSL with MLP for clasification task\n",
    "    # train the classifier\n",
    "    for data, target in train_dataloader:\n",
    "        data, target = data.to(device), target.to(device)\n",
    "        classifier_optimizer.zero_grad()\n",
    "        output = classifier(byol_model.online_encoder(data))\n",
    "        loss = F.cross_entropy(output, target)\n",
    "        loss.backward()\n",
    "        classifier_optimizer.step()\n",
    "        running_tloss += loss.item()\n",
    "\n",
    "    avg_tloss = running_tloss / len(train_dataloader)\n",
    "    print(f\"\\tTrain Loss: {avg_tloss}\")\n",
    "    history['train_loss'].append(avg_tloss)\n",
    "    history['epochs'].append(epoch+1)\n",
    "\n",
    "    classifier.eval()\n",
    "    for data, target in val_dataloader:\n",
    "        data, target = data.to(device), target.to(device)\n",
    "        with torch.no_grad():\n",
    "            output = classifier(byol_model.online_encoder(data))\n",
    "            loss = F.cross_entropy(output, target)\n",
    "            running_vloss += loss.item()\n",
    "    avg_vloss = running_vloss / len(val_dataloader)\n",
    "    print(f\"\\tValidation Loss: {avg_vloss}\")\n",
    "    history['val_loss'].append(avg_vloss)"
   ]
  },
  {
   "cell_type": "code",
   "execution_count": 29,
   "metadata": {},
   "outputs": [
    {
     "data": {
      "text/plain": [
       "<matplotlib.legend.Legend at 0x78d9d2b2e4a0>"
      ]
     },
     "execution_count": 29,
     "metadata": {},
     "output_type": "execute_result"
    },
    {
     "data": {
      "image/png": "[encoded data removed]",
      "text/plain": [
       "<Figure size 640x480 with 1 Axes>"
      ]
     },
     "metadata": {},
     "output_type": "display_data"
    }
   ],
   "source": [
    "plt.plot(history[\"epochs\"], history[\"ssl_loss\"],\n",
    "         \"o-.\", label='SSL Train Loss')\n",
    "plt.plot(history[\"epochs\"], history[\"train_loss\"],\n",
    "         \"o-.\", label='Train Loss')\n",
    "plt.plot(history[\"epochs\"], history[\"val_loss\"],\n",
    "         \"o-.\", label='Val Loss')\n",
    "plt.grid()\n",
    "plt.legend()"
   ]
  }
 ],
 "metadata": {
  "kernelspec": {
   "display_name": "venv",
   "language": "python",
   "name": "python3"
  },
  "language_info": {
   "codemirror_mode": {
    "name": "ipython",
    "version": 3
   },
   "file_extension": ".py",
   "mimetype": "text/x-python",
   "name": "python",
   "nbconvert_exporter": "python",
   "pygments_lexer": "ipython3",
   "version": "3.10.12"
  }
 },
 "nbformat": 4,
 "nbformat_minor": 2
}
