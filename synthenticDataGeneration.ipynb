{
 "cells": [
  {
   "cell_type": "code",
   "execution_count": 7,
   "metadata": {},
   "outputs": [],
   "source": [
    "import tensorflow as tf\n",
    "import numpy as np\n",
    "import pickle\n",
    "\n",
    "# local imports\n",
    "import comm_utils as comm"
   ]
  },
  {
   "cell_type": "code",
   "execution_count": 8,
   "metadata": {},
   "outputs": [],
   "source": [
    "sps = 16\n",
    "ofdm_symbol_len = 80  # 64 subcarriers + 16 cyclic prefix\n",
    "sig_len = 40_960"
   ]
  },
  {
   "cell_type": "code",
   "execution_count": 9,
   "metadata": {},
   "outputs": [],
   "source": [
    "def get_db(p): return 10*np.log10(p)\n",
    "def get_pow(s): return np.mean(np.abs(s)**2, axis=-1)\n",
    "def get_sinr(s, i): return get_pow(s)/get_pow(i)\n",
    "\n",
    "\n",
    "def get_sinr_db(s, i): return get_db(get_sinr(s, i))\n",
    "\n",
    "\n",
    "def generate_train_mixture(soi_type, nexamples):\n",
    "    if soi_type == 'QPSK':\n",
    "        gen_soi = comm.generate_qpsk_signal\n",
    "        num_symbols = sig_len // sps\n",
    "    elif soi_type == 'QPSK_OFDM':\n",
    "        gen_soi = comm.generate_ofdm_signal\n",
    "        num_symbols = sig_len // ofdm_symbol_len\n",
    "    else:\n",
    "        raise NotImplementedError\n",
    "\n",
    "    sinr_db = tf.random.uniform(\n",
    "        shape=(nexamples, 1), minval=-20, maxval=20, dtype=tf.float32)\n",
    "    gain_linear = tf.pow(10.0, -0.5 * sinr_db / 10.0)\n",
    "    gain_complex = tf.complex(gain_linear, tf.zeros_like(gain_linear))\n",
    "    phase = tf.random.uniform(\n",
    "        shape=(nexamples, 1), minval=-np.pi, maxval=np.pi, dtype=tf.float32)\n",
    "    phase_complex = tf.complex(phase, tf.zeros_like(gain_linear))\n",
    "    gain_phasor = gain_complex * tf.math.exp(1j * phase_complex)\n",
    "\n",
    "    soi, msg_bits = gen_soi(nexamples, num_symbols)\n",
    "    noise = tf.random.normal(\n",
    "        shape=(nexamples, sig_len), mean=0.0, stddev=1.0)\n",
    "    noise_complex = gain_phasor * tf.complex(noise, noise)\n",
    "    sig_mixed = soi + noise_complex\n",
    "    return dict(\n",
    "        soi=soi,\n",
    "        sig_mixed=sig_mixed.numpy(),\n",
    "        actual_sinr_db=get_sinr_db(soi, noise_complex),\n",
    "        expected_sinr_db=sinr_db.numpy(),\n",
    "        msg_bits=msg_bits.numpy()\n",
    "    )"
   ]
  },
  {
   "cell_type": "markdown",
   "metadata": {},
   "source": [
    "**Generate 7000 training examples and 1000 testing examples for training for each signal types**"
   ]
  },
  {
   "cell_type": "code",
   "execution_count": 10,
   "metadata": {},
   "outputs": [],
   "source": [
    "qpsk_7000 = generate_train_mixture('QPSK', 7000)\n",
    "qpsk_ofdm_7000 = generate_train_mixture('QPSK_OFDM', 7000)"
   ]
  },
  {
   "cell_type": "code",
   "execution_count": 11,
   "metadata": {},
   "outputs": [
    {
     "data": {
      "text/plain": [
       "dict_keys([('qpsk', 'soi'), ('qpsk', 'sig_mixed'), ('qpsk', 'actual_sinr_db'), ('qpsk', 'expected_sinr_db'), ('qpsk', 'msg_bits'), ('qpsk_ofdm', 'soi'), ('qpsk_ofdm', 'sig_mixed'), ('qpsk_ofdm', 'actual_sinr_db'), ('qpsk_ofdm', 'expected_sinr_db'), ('qpsk_ofdm', 'msg_bits')])"
      ]
     },
     "execution_count": 11,
     "metadata": {},
     "output_type": "execute_result"
    }
   ],
   "source": [
    "training_set = dict()\n",
    "prefix = 'qpsk'\n",
    "for k in qpsk_7000.keys():\n",
    "    training_set[(prefix, k)] = qpsk_7000[k]\n",
    "prefix = 'qpsk_ofdm'\n",
    "for k in qpsk_ofdm_7000.keys():\n",
    "    training_set[(prefix, k)] = qpsk_ofdm_7000[k]\n",
    "\n",
    "training_set.keys()"
   ]
  },
  {
   "cell_type": "code",
   "execution_count": 12,
   "metadata": {},
   "outputs": [],
   "source": [
    "with open('./Data/QPSK_7000_QPSK_OFDM_7000.pickle', 'wb') as f:\n",
    "    pickle.dump(training_set, f)"
   ]
  },
  {
   "cell_type": "code",
   "execution_count": 13,
   "metadata": {},
   "outputs": [
    {
     "data": {
      "text/plain": [
       "dict_keys([('qpsk', 'soi'), ('qpsk', 'sig_mixed'), ('qpsk', 'actual_sinr_db'), ('qpsk', 'expected_sinr_db'), ('qpsk', 'msg_bits'), ('qpsk_ofdm', 'soi'), ('qpsk_ofdm', 'sig_mixed'), ('qpsk_ofdm', 'actual_sinr_db'), ('qpsk_ofdm', 'expected_sinr_db'), ('qpsk_ofdm', 'msg_bits')])"
      ]
     },
     "execution_count": 13,
     "metadata": {},
     "output_type": "execute_result"
    }
   ],
   "source": [
    "qpsk_1000 = generate_train_mixture('QPSK', 1000)\n",
    "qpsk_ofdm_1000 = generate_train_mixture('QPSK_OFDM', 1000)\n",
    "\n",
    "test_set = dict()\n",
    "prefix = 'qpsk'\n",
    "for k in qpsk_1000.keys():\n",
    "    test_set[(prefix, k)] = qpsk_1000[k]\n",
    "prefix = 'qpsk_ofdm'\n",
    "for k in qpsk_ofdm_1000.keys():\n",
    "    test_set[(prefix, k)] = qpsk_ofdm_1000[k]\n",
    "\n",
    "test_set.keys()"
   ]
  },
  {
   "cell_type": "code",
   "execution_count": 14,
   "metadata": {},
   "outputs": [],
   "source": [
    "with open('./Data/QPSK_1000_QPSK_OFDM_1000.pickle', 'wb') as f:\n",
    "    pickle.dump(test_set, f)"
   ]
  }
 ],
 "metadata": {
  "kernelspec": {
   "display_name": "venv",
   "language": "python",
   "name": "python3"
  },
  "language_info": {
   "codemirror_mode": {
    "name": "ipython",
    "version": 3
   },
   "file_extension": ".py",
   "mimetype": "text/x-python",
   "name": "python",
   "nbconvert_exporter": "python",
   "pygments_lexer": "ipython3",
   "version": "3.10.12"
  }
 },
 "nbformat": 4,
 "nbformat_minor": 2
}
