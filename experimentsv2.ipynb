{
 "cells": [
  {
   "cell_type": "code",
   "execution_count": 1,
   "metadata": {},
   "outputs": [],
   "source": [
    "%load_ext autoreload\n",
    "%autoreload 2"
   ]
  },
  {
   "cell_type": "markdown",
   "metadata": {},
   "source": [
    "# **Imports**"
   ]
  },
  {
   "cell_type": "code",
   "execution_count": 2,
   "metadata": {},
   "outputs": [
    {
     "name": "stderr",
     "output_type": "stream",
     "text": [
      "/home/ogech/modulation_classification_using_early_exiting/venv2/lib/python3.10/site-packages/tqdm/auto.py:21: TqdmWarning: IProgress not found. Please update jupyter and ipywidgets. See https://ipywidgets.readthedocs.io/en/stable/user_install.html\n",
      "  from .autonotebook import tqdm as notebook_tqdm\n"
     ]
    }
   ],
   "source": [
    "from getModel import blModel, eeModel_V0, eeModel_V1, eeModel_V2, eeModel_V3\n",
    "from trainerv2 import Handler\n",
    "\n",
    "# training tools\n",
    "from model_builder.core.metrics import multiclass_accuracy\n",
    "import torch.nn.functional as F\n",
    "\n",
    "# data tools\n",
    "import numpy as np\n",
    "import torch\n",
    "import pickle"
   ]
  },
  {
   "cell_type": "markdown",
   "metadata": {},
   "source": [
    "# **Data**"
   ]
  },
  {
   "cell_type": "code",
   "execution_count": 3,
   "metadata": {},
   "outputs": [],
   "source": [
    "with open('./Data/RML22.pickle.01A', 'rb') as f:\n",
    "    data = pickle.load(f, encoding=\"latin1\")"
   ]
  },
  {
   "cell_type": "code",
   "execution_count": 4,
   "metadata": {},
   "outputs": [],
   "source": [
    "mods = [lst[0] for lst in data.keys()]\n",
    "snrs = [lst[1] for lst in data.keys()]"
   ]
  },
  {
   "cell_type": "code",
   "execution_count": 5,
   "metadata": {},
   "outputs": [
    {
     "data": {
      "text/plain": [
       "(210, 210)"
      ]
     },
     "execution_count": 5,
     "metadata": {},
     "output_type": "execute_result"
    }
   ],
   "source": [
    "len(mods), len(snrs)"
   ]
  },
  {
   "cell_type": "code",
   "execution_count": 6,
   "metadata": {},
   "outputs": [
    {
     "data": {
      "text/plain": [
       "(420000, 2, 128)"
      ]
     },
     "execution_count": 6,
     "metadata": {},
     "output_type": "execute_result"
    }
   ],
   "source": [
    "dataset = []\n",
    "for mod, snr in zip(mods, snrs):\n",
    "    # print(data[(mod, snr)].shape, mod, snr)\n",
    "    dataset.extend(data[(mod, snr)])\n",
    "\n",
    "dataset = np.array(dataset)\n",
    "dataset.shape  # (210*2000, 2, 128)"
   ]
  },
  {
   "cell_type": "code",
   "execution_count": 7,
   "metadata": {},
   "outputs": [],
   "source": [
    "num_classes = len(set(mods))\n",
    "name2label = {name: i for i, name in enumerate(np.unique(mods))}\n",
    "labels = torch.from_numpy(np.array([name2label[name] for name in mods]))\n",
    "labels = labels.repeat_interleave(2000)"
   ]
  },
  {
   "cell_type": "code",
   "execution_count": 8,
   "metadata": {},
   "outputs": [],
   "source": [
    "class IQDataset:\n",
    "    def __init__(self, x, y, transform_x=None, transform_y=None):\n",
    "        self.x = x\n",
    "        self.y = y\n",
    "        self.transform_x = transform_x\n",
    "        self.transform_y = transform_y\n",
    "\n",
    "    def __len__(self):\n",
    "        return len(self.x)\n",
    "\n",
    "    def __getitem__(self, idx):\n",
    "        x = self.x[idx]\n",
    "        y = self.y[idx]\n",
    "        if self.transform_x:\n",
    "            x = self.transform_x(x)\n",
    "        elif isinstance(x, np.ndarray):\n",
    "            x = torch.from_numpy(x)\n",
    "        if self.transform_y:\n",
    "            y = self.transform_y(y)\n",
    "        elif isinstance(y, np.ndarray):\n",
    "            y = torch.from_numpy(y)\n",
    "        return x, y"
   ]
  },
  {
   "cell_type": "code",
   "execution_count": 9,
   "metadata": {},
   "outputs": [
    {
     "data": {
      "text/plain": [
       "(151200, 100800, 168000)"
      ]
     },
     "execution_count": 9,
     "metadata": {},
     "output_type": "execute_result"
    }
   ],
   "source": [
    "from sklearn.model_selection import StratifiedShuffleSplit\n",
    "\n",
    "sss = StratifiedShuffleSplit(n_splits=2, test_size=0.4, random_state=0)\n",
    "dev_idx, test_idx = next(sss.split(dataset, labels))\n",
    "train_idx, val_idx = next(sss.split(dataset[dev_idx], labels[dev_idx]))\n",
    "\n",
    "train_data = IQDataset(\n",
    "    dataset[train_idx], labels[train_idx])\n",
    "val_data = IQDataset(\n",
    "    dataset[val_idx], labels[val_idx])\n",
    "test_data = IQDataset(\n",
    "    dataset[test_idx], labels[test_idx])\n",
    "\n",
    "len(train_data), len(val_data), len(test_data)"
   ]
  },
  {
   "cell_type": "code",
   "execution_count": 10,
   "metadata": {},
   "outputs": [
    {
     "data": {
      "text/plain": [
       "(torch.Size([2, 128]), torch.Size([]))"
      ]
     },
     "execution_count": 10,
     "metadata": {},
     "output_type": "execute_result"
    }
   ],
   "source": [
    "one_x, one_y = train_data[0]\n",
    "one_x.shape, one_y.shape"
   ]
  },
  {
   "cell_type": "code",
   "execution_count": 11,
   "metadata": {},
   "outputs": [],
   "source": [
    "NUM_EPOCHS = 100"
   ]
  },
  {
   "cell_type": "markdown",
   "metadata": {},
   "source": [
    "# **Baseline Model**"
   ]
  },
  {
   "cell_type": "code",
   "execution_count": 12,
   "metadata": {},
   "outputs": [
    {
     "name": "stdout",
     "output_type": "stream",
     "text": [
      "blModel(\n",
      "  (baseModel): Sequential(\n",
      "    (0): Conv1d(2, 64, kernel_size=(3,), stride=(1,), padding=(1,))\n",
      "    (1): BatchNorm1d(64, eps=1e-05, momentum=0.1, affine=True, track_running_stats=True)\n",
      "    (2): ReLU(inplace=True)\n",
      "    (3): MaxPool1d(kernel_size=2, stride=2, padding=0, dilation=1, ceil_mode=False)\n",
      "    (4): Conv1d(64, 64, kernel_size=(3,), stride=(1,), padding=(1,))\n",
      "    (5): BatchNorm1d(64, eps=1e-05, momentum=0.1, affine=True, track_running_stats=True)\n",
      "    (6): ReLU(inplace=True)\n",
      "    (7): MaxPool1d(kernel_size=2, stride=2, padding=0, dilation=1, ceil_mode=False)\n",
      "    (8): Conv1d(64, 64, kernel_size=(3,), stride=(1,), padding=(1,))\n",
      "    (9): BatchNorm1d(64, eps=1e-05, momentum=0.1, affine=True, track_running_stats=True)\n",
      "    (10): ReLU(inplace=True)\n",
      "  )\n",
      "  (longBranch): Sequential(\n",
      "    (0): Conv1d(64, 32, kernel_size=(3,), stride=(1,), padding=(1,))\n",
      "    (1): BatchNorm1d(32, eps=1e-05, momentum=0.1, affine=True, track_running_stats=True)\n",
      "    (2): ReLU(inplace=True)\n",
      "    (3): Conv1d(32, 32, kernel_size=(3,), stride=(1,), padding=(1,))\n",
      "    (4): BatchNorm1d(32, eps=1e-05, momentum=0.1, affine=True, track_running_stats=True)\n",
      "    (5): ReLU(inplace=True)\n",
      "    (6): Conv1d(32, 16, kernel_size=(3,), stride=(1,), padding=(1,))\n",
      "    (7): BatchNorm1d(16, eps=1e-05, momentum=0.1, affine=True, track_running_stats=True)\n",
      "    (8): ReLU(inplace=True)\n",
      "    (9): MaxPool1d(kernel_size=2, stride=2, padding=0, dilation=1, ceil_mode=False)\n",
      "    (10): Flatten(start_dim=1, end_dim=-1)\n",
      "  )\n",
      "  (head): Sequential(\n",
      "    (0): Linear(in_features=256, out_features=256, bias=True)\n",
      "    (1): Dropout(p=0.5, inplace=False)\n",
      "    (2): Linear(in_features=256, out_features=64, bias=True)\n",
      "    (3): Dropout(p=0.5, inplace=False)\n",
      "    (4): Linear(in_features=64, out_features=10, bias=True)\n",
      "  )\n",
      ")\n"
     ]
    }
   ],
   "source": [
    "blNet = blModel()\n",
    "print(blNet)"
   ]
  },
  {
   "cell_type": "code",
   "execution_count": 13,
   "metadata": {},
   "outputs": [
    {
     "data": {
      "text/html": [
       "\n",
       "<style>\n",
       "    /* Turns off some styling */\n",
       "    progress {\n",
       "        /* gets rid of default border in Firefox and Opera. */\n",
       "        border: none;\n",
       "        /* Needs to be in here for Safari polyfill so background images work as expected. */\n",
       "        background-size: auto;\n",
       "    }\n",
       "    progress:not([value]), progress:not([value])::-webkit-progress-bar {\n",
       "        background: repeating-linear-gradient(45deg, #7e7e7e, #7e7e7e 10px, #5c5c5c 10px, #5c5c5c 20px);\n",
       "    }\n",
       "    .progress-bar-interrupted, .progress-bar-interrupted::-webkit-progress-bar {\n",
       "        background: #F44336;\n",
       "    }\n",
       "</style>\n"
      ],
      "text/plain": [
       "<IPython.core.display.HTML object>"
      ]
     },
     "metadata": {},
     "output_type": "display_data"
    },
    {
     "data": {
      "text/html": [
       "\n",
       "    <div>\n",
       "      <progress value='3' class='' max='100' style='width:300px; height:20px; vertical-align: middle;'></progress>\n",
       "      3.00% [3/100 01:57&lt;1:03:06]\n",
       "    </div>\n",
       "    \n",
       "Epoch: 1, train_loss: 1.4976, val_loss: 1.1616, multiclass_accuracy: 0.4873, time: 00:00:39<p>Epoch: 2, train_loss: 1.5118, val_loss: 1.2257, multiclass_accuracy: 0.4689, time: 00:00:39<p>Epoch: 3, train_loss: 1.4757, val_loss: 1.1407, multiclass_accuracy: 0.4940, time: 00:00:38<p>\n",
       "\n",
       "    <div>\n",
       "      <progress value='1072' class='' max='4725' style='width:300px; height:20px; vertical-align: middle;'></progress>\n",
       "      22.69% [1072/4725 00:06&lt;00:23]\n",
       "    </div>\n",
       "    "
      ],
      "text/plain": [
       "<IPython.core.display.HTML object>"
      ]
     },
     "metadata": {},
     "output_type": "display_data"
    },
    {
     "name": "stdout",
     "output_type": "stream",
     "text": [
      "Better model found at epoch 0 with val_loss value: 1.1615583896636963.\n",
      "Better model found at epoch 2 with val_loss value: 1.1406798362731934.\n"
     ]
    }
   ],
   "source": [
    "hdl = Handler(blNet, nepochs=NUM_EPOCHS, crit=F.cross_entropy, opt=torch.optim.Adam,\n",
    "              sch=\"cosine\", modelPath='./Models/', modelName=\"blModel_\"+str(NUM_EPOCHS))\n",
    "hdl.train(train_data, val_data, bs=32, lr=1e-3,\n",
    "          wd=5e-4, metric_name='val_loss')"
   ]
  },
  {
   "cell_type": "markdown",
   "metadata": {},
   "source": [
    "# **EE Model**"
   ]
  },
  {
   "cell_type": "code",
   "execution_count": null,
   "metadata": {},
   "outputs": [],
   "source": [
    "eev0Net = eeModel_V0()\n",
    "print(eev0Net)\n",
    "\n",
    "one_y1, one_y2 = eev0Net(one_x.unsqueeze(0))\n",
    "one_y1.shape, one_y2.shape"
   ]
  },
  {
   "cell_type": "code",
   "execution_count": 15,
   "metadata": {},
   "outputs": [],
   "source": [
    "def loss_func(outputs, target, reduction=\"mean\"):\n",
    "    out1, out2 = outputs\n",
    "    return (F.cross_entropy(out1, target, reduction=reduction) + F.cross_entropy(out2, target, reduction=reduction)) / 2\n",
    "\n",
    "\n",
    "def accuracy(outputs, target):\n",
    "    out1, out2 = outputs\n",
    "    return (multiclass_accuracy(out1, target) + multiclass_accuracy(out2, target)) / 2"
   ]
  },
  {
   "cell_type": "code",
   "execution_count": null,
   "metadata": {},
   "outputs": [],
   "source": [
    "hdl = Handler(eev0Net, nepochs=NUM_EPOCHS, crit=loss_func, opt=torch.optim.Adam,\n",
    "              sch=\"cosine\", metrics=[accuracy], modelPath='./Models/', modelName=\"eev0Model\"+str(NUM_EPOCHS))\n",
    "hdl.train(train_data, val_data, bs=64, lr=1e-4,\n",
    "          wd=5e-4, metric_name=\"val_loss\")"
   ]
  }
 ],
 "metadata": {
  "kernelspec": {
   "display_name": "venv",
   "language": "python",
   "name": "python3"
  },
  "language_info": {
   "codemirror_mode": {
    "name": "ipython",
    "version": 3
   },
   "file_extension": ".py",
   "mimetype": "text/x-python",
   "name": "python",
   "nbconvert_exporter": "python",
   "pygments_lexer": "ipython3",
   "version": "3.10.12"
  }
 },
 "nbformat": 4,
 "nbformat_minor": 2
}
