{
 "cells": [
  {
   "cell_type": "code",
   "execution_count": 1,
   "metadata": {},
   "outputs": [],
   "source": [
    "%load_ext autoreload\n",
    "%autoreload 2"
   ]
  },
  {
   "cell_type": "markdown",
   "metadata": {},
   "source": [
    "# **Imports**"
   ]
  },
  {
   "cell_type": "code",
   "execution_count": 2,
   "metadata": {},
   "outputs": [
    {
     "name": "stderr",
     "output_type": "stream",
     "text": [
      "/home/ogech/modulation_classification_using_early_exiting/venv/lib/python3.10/site-packages/tqdm/auto.py:21: TqdmWarning: IProgress not found. Please update jupyter and ipywidgets. See https://ipywidgets.readthedocs.io/en/stable/user_install.html\n",
      "  from .autonotebook import tqdm as notebook_tqdm\n"
     ]
    }
   ],
   "source": [
    "from getModel import blModel, eeModel, eeModel_V0, eeModel_V1, eeModel_V2, eeModel_V3\n",
    "from trainerv2 import Handler\n",
    "\n",
    "# training tools\n",
    "from model_builder.core.metrics import multiclass_accuracy\n",
    "from torch.nn.functional import cross_entropy\n",
    "\n",
    "# data tools\n",
    "import numpy as np\n",
    "import torch\n",
    "import pickle"
   ]
  },
  {
   "cell_type": "markdown",
   "metadata": {},
   "source": [
    "# **Data**"
   ]
  },
  {
   "cell_type": "code",
   "execution_count": 3,
   "metadata": {},
   "outputs": [],
   "source": [
    "with open('./Data/RML22.pickle.01A', 'rb') as f:\n",
    "    data = pickle.load(f, encoding=\"latin1\")"
   ]
  },
  {
   "cell_type": "code",
   "execution_count": 4,
   "metadata": {},
   "outputs": [],
   "source": [
    "mods = [lst[0] for lst in data.keys()]\n",
    "snrs = [lst[1] for lst in data.keys()]"
   ]
  },
  {
   "cell_type": "code",
   "execution_count": 5,
   "metadata": {},
   "outputs": [
    {
     "data": {
      "text/plain": [
       "(210, 210)"
      ]
     },
     "execution_count": 5,
     "metadata": {},
     "output_type": "execute_result"
    }
   ],
   "source": [
    "len(mods), len(snrs)"
   ]
  },
  {
   "cell_type": "code",
   "execution_count": 6,
   "metadata": {},
   "outputs": [
    {
     "data": {
      "text/plain": [
       "(420000, 2, 128)"
      ]
     },
     "execution_count": 6,
     "metadata": {},
     "output_type": "execute_result"
    }
   ],
   "source": [
    "dataset = []\n",
    "for mod, snr in zip(mods, snrs):\n",
    "    # print(data[(mod, snr)].shape, mod, snr)\n",
    "    dataset.extend(data[(mod, snr)])\n",
    "\n",
    "dataset = np.array(dataset)\n",
    "dataset.shape  # (210*2000, 2, 128)"
   ]
  },
  {
   "cell_type": "code",
   "execution_count": 7,
   "metadata": {},
   "outputs": [],
   "source": [
    "# one hot encode the labels\n",
    "num_classes = len(set(mods))\n",
    "name2label = {name: i for i, name in enumerate(np.unique(mods))}\n",
    "mods = np.array([name2label[name] for name in mods])\n",
    "labels = torch.nn.functional.one_hot(\n",
    "    torch.from_numpy(mods), num_classes=num_classes)\n",
    "labels = torch.repeat_interleave(labels, 2000, dim=0)"
   ]
  },
  {
   "cell_type": "code",
   "execution_count": 8,
   "metadata": {},
   "outputs": [],
   "source": [
    "class IQDataset:\n",
    "    def __init__(self, x, y, transform_x=None, transform_y=None):\n",
    "        self.x = x\n",
    "        self.y = y\n",
    "        self.transform_x = transform_x\n",
    "        self.transform_y = transform_y\n",
    "\n",
    "    def __len__(self):\n",
    "        return len(self.x)\n",
    "\n",
    "    def __getitem__(self, idx):\n",
    "        x = self.x[idx]\n",
    "        y = self.y[idx]\n",
    "        if self.transform_x:\n",
    "            x = self.transform_x(x)\n",
    "        elif isinstance(x, np.ndarray):\n",
    "            x = torch.from_numpy(x)\n",
    "        if self.transform_y:\n",
    "            y = self.transform_y(y)\n",
    "        elif isinstance(y, np.ndarray):\n",
    "            y = torch.from_numpy(y)\n",
    "        return x, y"
   ]
  },
  {
   "cell_type": "code",
   "execution_count": 9,
   "metadata": {},
   "outputs": [
    {
     "data": {
      "text/plain": [
       "(151200, 100800, 168000)"
      ]
     },
     "execution_count": 9,
     "metadata": {},
     "output_type": "execute_result"
    }
   ],
   "source": [
    "from sklearn.model_selection import StratifiedShuffleSplit\n",
    "from torchvision.transforms import Compose, Lambda\n",
    "\n",
    "sss = StratifiedShuffleSplit(n_splits=2, test_size=0.4, random_state=0)\n",
    "dev_idx, test_idx = next(sss.split(dataset, labels))\n",
    "train_idx, val_idx = next(sss.split(dataset[dev_idx], labels[dev_idx]))\n",
    "\n",
    "transform_y = Compose([\n",
    "    Lambda(lambda x: torch.argmax(x, dim=-1))\n",
    "])\n",
    "\n",
    "train_data = IQDataset(\n",
    "    dataset[train_idx], labels[train_idx], transform_y=transform_y)\n",
    "val_data = IQDataset(\n",
    "    dataset[val_idx], labels[val_idx], transform_y=transform_y)\n",
    "test_data = IQDataset(\n",
    "    dataset[test_idx], labels[test_idx], transform_y=transform_y)\n",
    "\n",
    "len(train_data), len(val_data), len(test_data)"
   ]
  },
  {
   "cell_type": "code",
   "execution_count": 10,
   "metadata": {},
   "outputs": [
    {
     "data": {
      "text/plain": [
       "(torch.Size([2, 128]), torch.Size([]))"
      ]
     },
     "execution_count": 10,
     "metadata": {},
     "output_type": "execute_result"
    }
   ],
   "source": [
    "one_x, one_y = train_data[0]\n",
    "one_x.shape, one_y.shape"
   ]
  },
  {
   "cell_type": "code",
   "execution_count": 11,
   "metadata": {},
   "outputs": [],
   "source": [
    "NUM_EPOCHS = 50"
   ]
  },
  {
   "cell_type": "markdown",
   "metadata": {},
   "source": [
    "# **Baseline Model**"
   ]
  },
  {
   "cell_type": "code",
   "execution_count": 12,
   "metadata": {},
   "outputs": [
    {
     "name": "stdout",
     "output_type": "stream",
     "text": [
      "blModel(\n",
      "  (baseModel): Sequential(\n",
      "    (0): Conv1d(2, 64, kernel_size=(3,), stride=(1,), padding=(1,))\n",
      "    (1): BatchNorm1d(64, eps=1e-05, momentum=0.1, affine=True, track_running_stats=True)\n",
      "    (2): ReLU(inplace=True)\n",
      "    (3): MaxPool1d(kernel_size=2, stride=2, padding=0, dilation=1, ceil_mode=False)\n",
      "    (4): Conv1d(64, 64, kernel_size=(3,), stride=(1,), padding=(1,))\n",
      "    (5): BatchNorm1d(64, eps=1e-05, momentum=0.1, affine=True, track_running_stats=True)\n",
      "    (6): ReLU(inplace=True)\n",
      "    (7): MaxPool1d(kernel_size=2, stride=2, padding=0, dilation=1, ceil_mode=False)\n",
      "    (8): Conv1d(64, 64, kernel_size=(3,), stride=(1,), padding=(1,))\n",
      "    (9): BatchNorm1d(64, eps=1e-05, momentum=0.1, affine=True, track_running_stats=True)\n",
      "    (10): ReLU(inplace=True)\n",
      "  )\n",
      "  (longBranch): Sequential(\n",
      "    (0): Conv1d(64, 32, kernel_size=(3,), stride=(1,), padding=(1,))\n",
      "    (1): BatchNorm1d(32, eps=1e-05, momentum=0.1, affine=True, track_running_stats=True)\n",
      "    (2): ReLU(inplace=True)\n",
      "    (3): Conv1d(32, 32, kernel_size=(3,), stride=(1,), padding=(1,))\n",
      "    (4): BatchNorm1d(32, eps=1e-05, momentum=0.1, affine=True, track_running_stats=True)\n",
      "    (5): ReLU(inplace=True)\n",
      "    (6): Conv1d(32, 16, kernel_size=(3,), stride=(1,), padding=(1,))\n",
      "    (7): BatchNorm1d(16, eps=1e-05, momentum=0.1, affine=True, track_running_stats=True)\n",
      "    (8): ReLU(inplace=True)\n",
      "    (9): MaxPool1d(kernel_size=2, stride=2, padding=0, dilation=1, ceil_mode=False)\n",
      "    (10): Flatten(start_dim=1, end_dim=-1)\n",
      "    (11): Linear(in_features=256, out_features=256, bias=True)\n",
      "    (12): Dropout(p=0.5, inplace=False)\n",
      "    (13): Linear(in_features=256, out_features=64, bias=True)\n",
      "    (14): Dropout(p=0.5, inplace=False)\n",
      "    (15): Linear(in_features=64, out_features=10, bias=True)\n",
      "  )\n",
      ")\n"
     ]
    }
   ],
   "source": [
    "blNet = blModel()\n",
    "print(blNet)"
   ]
  },
  {
   "cell_type": "code",
   "execution_count": 13,
   "metadata": {},
   "outputs": [
    {
     "data": {
      "text/html": [
       "\n",
       "<style>\n",
       "    /* Turns off some styling */\n",
       "    progress {\n",
       "        /* gets rid of default border in Firefox and Opera. */\n",
       "        border: none;\n",
       "        /* Needs to be in here for Safari polyfill so background images work as expected. */\n",
       "        background-size: auto;\n",
       "    }\n",
       "    progress:not([value]), progress:not([value])::-webkit-progress-bar {\n",
       "        background: repeating-linear-gradient(45deg, #7e7e7e, #7e7e7e 10px, #5c5c5c 10px, #5c5c5c 20px);\n",
       "    }\n",
       "    .progress-bar-interrupted, .progress-bar-interrupted::-webkit-progress-bar {\n",
       "        background: #F44336;\n",
       "    }\n",
       "</style>\n"
      ],
      "text/plain": [
       "<IPython.core.display.HTML object>"
      ]
     },
     "metadata": {},
     "output_type": "display_data"
    },
    {
     "data": {
      "text/html": [
       "\n",
       "    <div>\n",
       "      <progress value='25' class='' max='50' style='width:300px; height:20px; vertical-align: middle;'></progress>\n",
       "      50.00% [25/50 17:00&lt;17:00]\n",
       "    </div>\n",
       "    \n",
       "Epoch: 1, train_loss: 1.4898, val_loss: 1.1574, multiclass_accuracy: 0.4894, time: 00:00:40<p>Epoch: 2, train_loss: 1.4985, val_loss: 1.1968, multiclass_accuracy: 0.4791, time: 00:00:39<p>Epoch: 3, train_loss: 1.4696, val_loss: 1.1282, multiclass_accuracy: 0.4945, time: 00:00:40<p>Epoch: 4, train_loss: 1.4890, val_loss: 1.1582, multiclass_accuracy: 0.4881, time: 00:00:41<p>Epoch: 5, train_loss: 1.4553, val_loss: 1.1228, multiclass_accuracy: 0.4947, time: 00:00:41<p>Epoch: 6, train_loss: 1.4733, val_loss: 1.1385, multiclass_accuracy: 0.4857, time: 00:00:41<p>Epoch: 7, train_loss: 1.4670, val_loss: 1.1191, multiclass_accuracy: 0.4984, time: 00:00:41<p>Epoch: 8, train_loss: 1.4794, val_loss: 1.1510, multiclass_accuracy: 0.4949, time: 00:00:41<p>Epoch: 9, train_loss: 1.4534, val_loss: 1.1135, multiclass_accuracy: 0.4981, time: 00:00:41<p>Epoch: 10, train_loss: 1.4637, val_loss: 1.1313, multiclass_accuracy: 0.4936, time: 00:00:41<p>Epoch: 11, train_loss: 1.4455, val_loss: 1.1121, multiclass_accuracy: 0.5001, time: 00:00:40<p>Epoch: 12, train_loss: 1.4548, val_loss: 1.1145, multiclass_accuracy: 0.4920, time: 00:00:39<p>Epoch: 13, train_loss: 1.4475, val_loss: 1.1075, multiclass_accuracy: 0.5000, time: 00:00:40<p>Epoch: 14, train_loss: 1.4664, val_loss: 1.1298, multiclass_accuracy: 0.4912, time: 00:00:40<p>Epoch: 15, train_loss: 1.4541, val_loss: 1.1078, multiclass_accuracy: 0.5014, time: 00:00:40<p>Epoch: 16, train_loss: 1.4536, val_loss: 1.1033, multiclass_accuracy: 0.4974, time: 00:00:40<p>Epoch: 17, train_loss: 1.4438, val_loss: 1.1080, multiclass_accuracy: 0.5000, time: 00:00:40<p>Epoch: 18, train_loss: 1.4544, val_loss: 1.1051, multiclass_accuracy: 0.5012, time: 00:00:40<p>Epoch: 19, train_loss: 1.4390, val_loss: 1.1043, multiclass_accuracy: 0.5010, time: 00:00:41<p>Epoch: 20, train_loss: 74.7674, val_loss: 85.0374, multiclass_accuracy: 0.1674, time: 00:00:40<p>Epoch: 21, train_loss: 1.7975, val_loss: 1.7921, multiclass_accuracy: 0.1674, time: 00:00:40<p>Epoch: 22, train_loss: 1.7918, val_loss: 1.7918, multiclass_accuracy: 0.1651, time: 00:00:41<p>Epoch: 23, train_loss: 1.7920, val_loss: 1.7918, multiclass_accuracy: 0.1651, time: 00:00:37<p>Epoch: 24, train_loss: 1.7919, val_loss: 1.7918, multiclass_accuracy: 0.1674, time: 00:00:41<p>Epoch: 25, train_loss: 1.7917, val_loss: 1.7918, multiclass_accuracy: 0.1655, time: 00:00:41<p>\n",
       "\n",
       "    <div>\n",
       "      <progress value='1575' class='' max='1575' style='width:300px; height:20px; vertical-align: middle;'></progress>\n",
       "      100.00% [1575/1575 00:11&lt;00:00]\n",
       "    </div>\n",
       "    "
      ],
      "text/plain": [
       "<IPython.core.display.HTML object>"
      ]
     },
     "metadata": {},
     "output_type": "display_data"
    },
    {
     "name": "stdout",
     "output_type": "stream",
     "text": [
      "Better model found at epoch 0 with val_loss value: 1.1573572158813477.\n",
      "Better model found at epoch 2 with val_loss value: 1.1282047033309937.\n",
      "Better model found at epoch 4 with val_loss value: 1.122846007347107.\n",
      "Better model found at epoch 6 with val_loss value: 1.11909019947052.\n",
      "Better model found at epoch 8 with val_loss value: 1.1134681701660156.\n",
      "Better model found at epoch 10 with val_loss value: 1.1120734214782715.\n",
      "Better model found at epoch 12 with val_loss value: 1.1075162887573242.\n",
      "Better model found at epoch 15 with val_loss value: 1.1032577753067017.\n",
      "Reducing LR to 0.0001.\n",
      "Reducing LR to 1e-05.\n",
      "Reducing LR to 1.0000000000000002e-06.\n",
      "Stopping training at epoch 25 with val_loss value: 6.120589256286621.\n",
      "\n",
      "\n",
      "Training completed\n",
      "\n",
      "\n"
     ]
    },
    {
     "data": {
      "text/html": [
       "\n",
       "<style>\n",
       "    /* Turns off some styling */\n",
       "    progress {\n",
       "        /* gets rid of default border in Firefox and Opera. */\n",
       "        border: none;\n",
       "        /* Needs to be in here for Safari polyfill so background images work as expected. */\n",
       "        background-size: auto;\n",
       "    }\n",
       "    progress:not([value]), progress:not([value])::-webkit-progress-bar {\n",
       "        background: repeating-linear-gradient(45deg, #7e7e7e, #7e7e7e 10px, #5c5c5c 10px, #5c5c5c 20px);\n",
       "    }\n",
       "    .progress-bar-interrupted, .progress-bar-interrupted::-webkit-progress-bar {\n",
       "        background: #F44336;\n",
       "    }\n",
       "</style>\n"
      ],
      "text/plain": [
       "<IPython.core.display.HTML object>"
      ]
     },
     "metadata": {},
     "output_type": "display_data"
    },
    {
     "data": {
      "text/html": [],
      "text/plain": [
       "<IPython.core.display.HTML object>"
      ]
     },
     "metadata": {},
     "output_type": "display_data"
    },
    {
     "name": "stdout",
     "output_type": "stream",
     "text": [
      "Validation Loss: 1.10236 Multiclass Accuracy: 0.499\n",
      "Model saved at: Models/blModel.pt\n"
     ]
    }
   ],
   "source": [
    "hdl = Handler(blNet, nepochs=NUM_EPOCHS, crit=cross_entropy,\n",
    "              sch=\"cosine\", modelPath='./Models/', modelName=\"blModel\")\n",
    "hdl.train(train_data, val_data, bs=64, lr=1e-3,\n",
    "          wd=1e-4, metric_name='val_loss')"
   ]
  },
  {
   "cell_type": "markdown",
   "metadata": {},
   "source": [
    "# **EE Model**"
   ]
  },
  {
   "cell_type": "code",
   "execution_count": 14,
   "metadata": {},
   "outputs": [
    {
     "name": "stdout",
     "output_type": "stream",
     "text": [
      "Number of base parameters: 576\n",
      "Number of short branch parameters: 68010\n",
      "Number of long branch parameters: 118842\n",
      "Difference = 50832\n",
      "eeModel_V0(\n",
      "  (baseModel): Sequential(\n",
      "    (0): Conv1d(2, 64, kernel_size=(3,), stride=(1,), padding=(1,))\n",
      "    (1): BatchNorm1d(64, eps=1e-05, momentum=0.1, affine=True, track_running_stats=True)\n",
      "    (2): ReLU(inplace=True)\n",
      "    (3): MaxPool1d(kernel_size=2, stride=2, padding=0, dilation=1, ceil_mode=False)\n",
      "  )\n",
      "  (shortBranch): Sequential(\n",
      "    (0): MaxPool1d(kernel_size=4, stride=4, padding=0, dilation=1, ceil_mode=False)\n",
      "    (1): Flatten(start_dim=1, end_dim=-1)\n",
      "    (2): Linear(in_features=1024, out_features=64, bias=True)\n",
      "    (3): Dropout(p=0.5, inplace=False)\n",
      "    (4): Linear(in_features=64, out_features=32, bias=True)\n",
      "    (5): Dropout(p=0.5, inplace=False)\n",
      "    (6): Linear(in_features=32, out_features=10, bias=True)\n",
      "  )\n",
      "  (longBranch): Sequential(\n",
      "    (0): Conv1d(64, 64, kernel_size=(3,), stride=(1,), padding=(1,))\n",
      "    (1): BatchNorm1d(64, eps=1e-05, momentum=0.1, affine=True, track_running_stats=True)\n",
      "    (2): ReLU(inplace=True)\n",
      "    (3): MaxPool1d(kernel_size=2, stride=2, padding=0, dilation=1, ceil_mode=False)\n",
      "    (4): Conv1d(64, 64, kernel_size=(3,), stride=(1,), padding=(1,))\n",
      "    (5): BatchNorm1d(64, eps=1e-05, momentum=0.1, affine=True, track_running_stats=True)\n",
      "    (6): ReLU(inplace=True)\n",
      "    (7): Conv1d(64, 32, kernel_size=(3,), stride=(1,), padding=(1,))\n",
      "    (8): BatchNorm1d(32, eps=1e-05, momentum=0.1, affine=True, track_running_stats=True)\n",
      "    (9): ReLU(inplace=True)\n",
      "    (10): Conv1d(32, 32, kernel_size=(3,), stride=(1,), padding=(1,))\n",
      "    (11): BatchNorm1d(32, eps=1e-05, momentum=0.1, affine=True, track_running_stats=True)\n",
      "    (12): ReLU(inplace=True)\n",
      "    (13): Conv1d(32, 16, kernel_size=(3,), stride=(1,), padding=(1,))\n",
      "    (14): BatchNorm1d(16, eps=1e-05, momentum=0.1, affine=True, track_running_stats=True)\n",
      "    (15): ReLU(inplace=True)\n",
      "    (16): MaxPool1d(kernel_size=2, stride=2, padding=0, dilation=1, ceil_mode=False)\n",
      "    (17): Flatten(start_dim=1, end_dim=-1)\n",
      "    (18): Linear(in_features=256, out_features=256, bias=True)\n",
      "    (19): Dropout(p=0.5, inplace=False)\n",
      "    (20): Linear(in_features=256, out_features=64, bias=True)\n",
      "    (21): Dropout(p=0.5, inplace=False)\n",
      "    (22): Linear(in_features=64, out_features=10, bias=True)\n",
      "  )\n",
      ")\n"
     ]
    },
    {
     "data": {
      "text/plain": [
       "(torch.Size([1, 10]), torch.Size([1, 10]))"
      ]
     },
     "execution_count": 14,
     "metadata": {},
     "output_type": "execute_result"
    }
   ],
   "source": [
    "eev0Net = eeModel_V0()\n",
    "print(eev0Net)\n",
    "\n",
    "one_y1, one_y2 = eev0Net(one_x.unsqueeze(0))\n",
    "one_y1.shape, one_y2.shape"
   ]
  },
  {
   "cell_type": "code",
   "execution_count": 15,
   "metadata": {},
   "outputs": [],
   "source": [
    "def loss_func(outputs, target, reduction=\"mean\"):\n",
    "    out1, out2 = outputs\n",
    "    return (cross_entropy(out1, target, reduction=reduction) + cross_entropy(out2, target, reduction=reduction)) / 2\n",
    "\n",
    "\n",
    "def accuracy(outputs, target):\n",
    "    out1, out2 = outputs\n",
    "    return (multiclass_accuracy(out1, target) + multiclass_accuracy(out2, target)) / 2"
   ]
  },
  {
   "cell_type": "code",
   "execution_count": 16,
   "metadata": {},
   "outputs": [
    {
     "data": {
      "text/html": [
       "\n",
       "<style>\n",
       "    /* Turns off some styling */\n",
       "    progress {\n",
       "        /* gets rid of default border in Firefox and Opera. */\n",
       "        border: none;\n",
       "        /* Needs to be in here for Safari polyfill so background images work as expected. */\n",
       "        background-size: auto;\n",
       "    }\n",
       "    progress:not([value]), progress:not([value])::-webkit-progress-bar {\n",
       "        background: repeating-linear-gradient(45deg, #7e7e7e, #7e7e7e 10px, #5c5c5c 10px, #5c5c5c 20px);\n",
       "    }\n",
       "    .progress-bar-interrupted, .progress-bar-interrupted::-webkit-progress-bar {\n",
       "        background: #F44336;\n",
       "    }\n",
       "</style>\n"
      ],
      "text/plain": [
       "<IPython.core.display.HTML object>"
      ]
     },
     "metadata": {},
     "output_type": "display_data"
    },
    {
     "data": {
      "text/html": [
       "\n",
       "    <div>\n",
       "      <progress value='0' class='' max='50' style='width:300px; height:20px; vertical-align: middle;'></progress>\n",
       "      0.00% [0/50 00:00&lt;?]\n",
       "    </div>\n",
       "    \n",
       "\n",
       "\n",
       "    <div>\n",
       "      <progress value='2267' class='' max='2363' style='width:300px; height:20px; vertical-align: middle;'></progress>\n",
       "      95.94% [2267/2363 00:31&lt;00:01]\n",
       "    </div>\n",
       "    "
      ],
      "text/plain": [
       "<IPython.core.display.HTML object>"
      ]
     },
     "metadata": {},
     "output_type": "display_data"
    },
    {
     "name": "stdout",
     "output_type": "stream",
     "text": [
      "Better model found at epoch 0 with val_loss value: 1.474061369895935.\n",
      "Better model found at epoch 2 with val_loss value: 1.4454677104949951.\n",
      "Better model found at epoch 3 with val_loss value: 1.4122824668884277.\n",
      "Better model found at epoch 4 with val_loss value: 1.337661862373352.\n",
      "Reducing LR to 0.0001.\n",
      "Reducing LR to 1e-05.\n",
      "Reducing LR to 1.0000000000000002e-06.\n",
      "Stopping training at epoch 14 with val_loss value: 6149.9775390625.\n",
      "\n",
      "\n",
      "Training completed\n",
      "\n",
      "\n"
     ]
    },
    {
     "data": {
      "text/html": [
       "\n",
       "<style>\n",
       "    /* Turns off some styling */\n",
       "    progress {\n",
       "        /* gets rid of default border in Firefox and Opera. */\n",
       "        border: none;\n",
       "        /* Needs to be in here for Safari polyfill so background images work as expected. */\n",
       "        background-size: auto;\n",
       "    }\n",
       "    progress:not([value]), progress:not([value])::-webkit-progress-bar {\n",
       "        background: repeating-linear-gradient(45deg, #7e7e7e, #7e7e7e 10px, #5c5c5c 10px, #5c5c5c 20px);\n",
       "    }\n",
       "    .progress-bar-interrupted, .progress-bar-interrupted::-webkit-progress-bar {\n",
       "        background: #F44336;\n",
       "    }\n",
       "</style>\n"
      ],
      "text/plain": [
       "<IPython.core.display.HTML object>"
      ]
     },
     "metadata": {},
     "output_type": "display_data"
    },
    {
     "data": {
      "text/html": [],
      "text/plain": [
       "<IPython.core.display.HTML object>"
      ]
     },
     "metadata": {},
     "output_type": "display_data"
    },
    {
     "name": "stdout",
     "output_type": "stream",
     "text": [
      "Validation Loss: 1.33789 Accuracy: 0.388\n",
      "Model saved at: Models/eev0Model.pt\n"
     ]
    }
   ],
   "source": [
    "hdl = Handler(eev0Net, nepochs=NUM_EPOCHS, crit=loss_func,\n",
    "              sch=\"cosine\", metrics=[accuracy], modelPath='./Models/', modelName=\"eev0Model\")\n",
    "hdl.train(train_data, val_data, bs=64, lr=1e-3,\n",
    "          wd=1e-4, metric_name=\"val_loss\")"
   ]
  }
 ],
 "metadata": {
  "kernelspec": {
   "display_name": "venv",
   "language": "python",
   "name": "python3"
  },
  "language_info": {
   "codemirror_mode": {
    "name": "ipython",
    "version": 3
   },
   "file_extension": ".py",
   "mimetype": "text/x-python",
   "name": "python",
   "nbconvert_exporter": "python",
   "pygments_lexer": "ipython3",
   "version": "3.10.12"
  }
 },
 "nbformat": 4,
 "nbformat_minor": 2
}
