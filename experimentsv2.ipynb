{
 "cells": [
  {
   "cell_type": "code",
   "execution_count": 1,
   "metadata": {},
   "outputs": [],
   "source": [
    "%load_ext autoreload\n",
    "%autoreload 2"
   ]
  },
  {
   "cell_type": "markdown",
   "metadata": {},
   "source": [
    "# **Imports**"
   ]
  },
  {
   "cell_type": "code",
   "execution_count": 2,
   "metadata": {},
   "outputs": [
    {
     "name": "stderr",
     "output_type": "stream",
     "text": [
      "/home/ogech/modulation_classification_using_early_exiting/venv/lib/python3.10/site-packages/tqdm/auto.py:21: TqdmWarning: IProgress not found. Please update jupyter and ipywidgets. See https://ipywidgets.readthedocs.io/en/stable/user_install.html\n",
      "  from .autonotebook import tqdm as notebook_tqdm\n"
     ]
    }
   ],
   "source": [
    "from getModel import blModel, eeModel, eeModel_V0, eeModel_V1, eeModel_V2, eeModel_V3\n",
    "from trainerv2 import Handler\n",
    "\n",
    "# training tools\n",
    "from model_builder.core.metrics import multiclass_accuracy\n",
    "from torch.nn.functional import cross_entropy\n",
    "\n",
    "# data tools\n",
    "import numpy as np\n",
    "import torch\n",
    "import pickle"
   ]
  },
  {
   "cell_type": "markdown",
   "metadata": {},
   "source": [
    "# **Data**"
   ]
  },
  {
   "cell_type": "code",
   "execution_count": 3,
   "metadata": {},
   "outputs": [],
   "source": [
    "with open('./Data/RML22.pickle.01A', 'rb') as f:\n",
    "    data = pickle.load(f, encoding=\"latin1\")"
   ]
  },
  {
   "cell_type": "code",
   "execution_count": 4,
   "metadata": {},
   "outputs": [],
   "source": [
    "mods = [lst[0] for lst in data.keys()]\n",
    "snrs = [lst[1] for lst in data.keys()]"
   ]
  },
  {
   "cell_type": "code",
   "execution_count": 5,
   "metadata": {},
   "outputs": [
    {
     "data": {
      "text/plain": [
       "(210, 210)"
      ]
     },
     "execution_count": 5,
     "metadata": {},
     "output_type": "execute_result"
    }
   ],
   "source": [
    "len(mods), len(snrs)"
   ]
  },
  {
   "cell_type": "code",
   "execution_count": 6,
   "metadata": {},
   "outputs": [
    {
     "data": {
      "text/plain": [
       "(420000, 2, 128)"
      ]
     },
     "execution_count": 6,
     "metadata": {},
     "output_type": "execute_result"
    }
   ],
   "source": [
    "dataset = []\n",
    "for mod, snr in zip(mods, snrs):\n",
    "    # print(data[(mod, snr)].shape, mod, snr)\n",
    "    dataset.extend(data[(mod, snr)])\n",
    "\n",
    "dataset = np.array(dataset)\n",
    "dataset.shape  # (210*2000, 2, 128)"
   ]
  },
  {
   "cell_type": "code",
   "execution_count": 7,
   "metadata": {},
   "outputs": [],
   "source": [
    "# one hot encode the labels\n",
    "num_classes = len(set(mods))\n",
    "name2label = {name: i for i, name in enumerate(np.unique(mods))}\n",
    "mods = np.array([name2label[name] for name in mods])\n",
    "labels = torch.nn.functional.one_hot(\n",
    "    torch.from_numpy(mods), num_classes=num_classes)\n",
    "labels = torch.repeat_interleave(labels, 2000, dim=0)"
   ]
  },
  {
   "cell_type": "code",
   "execution_count": 8,
   "metadata": {},
   "outputs": [],
   "source": [
    "class IQDataset:\n",
    "    def __init__(self, x, y, transform_x=None, transform_y=None):\n",
    "        self.x = x\n",
    "        self.y = y\n",
    "        self.transform_x = transform_x\n",
    "        self.transform_y = transform_y\n",
    "\n",
    "    def __len__(self):\n",
    "        return len(self.x)\n",
    "\n",
    "    def __getitem__(self, idx):\n",
    "        x = self.x[idx]\n",
    "        y = self.y[idx]\n",
    "        if self.transform_x:\n",
    "            x = self.transform_x(x)\n",
    "        elif isinstance(x, np.ndarray):\n",
    "            x = torch.from_numpy(x)\n",
    "        if self.transform_y:\n",
    "            y = self.transform_y(y)\n",
    "        elif isinstance(y, np.ndarray):\n",
    "            y = torch.from_numpy(y)\n",
    "        return x, y"
   ]
  },
  {
   "cell_type": "code",
   "execution_count": 9,
   "metadata": {},
   "outputs": [
    {
     "data": {
      "text/plain": [
       "(151200, 100800, 168000)"
      ]
     },
     "execution_count": 9,
     "metadata": {},
     "output_type": "execute_result"
    }
   ],
   "source": [
    "from sklearn.model_selection import StratifiedShuffleSplit\n",
    "from torchvision.transforms import Compose, Lambda\n",
    "\n",
    "sss = StratifiedShuffleSplit(n_splits=2, test_size=0.4, random_state=0)\n",
    "dev_idx, test_idx = next(sss.split(dataset, labels))\n",
    "train_idx, val_idx = next(sss.split(dataset[dev_idx], labels[dev_idx]))\n",
    "\n",
    "transform_y = Compose([\n",
    "    Lambda(lambda x: torch.argmax(x, dim=-1))\n",
    "])\n",
    "\n",
    "train_data = IQDataset(\n",
    "    dataset[train_idx], labels[train_idx], transform_y=transform_y)\n",
    "val_data = IQDataset(\n",
    "    dataset[val_idx], labels[val_idx], transform_y=transform_y)\n",
    "test_data = IQDataset(\n",
    "    dataset[test_idx], labels[test_idx], transform_y=transform_y)\n",
    "\n",
    "len(train_data), len(val_data), len(test_data)"
   ]
  },
  {
   "cell_type": "code",
   "execution_count": 10,
   "metadata": {},
   "outputs": [
    {
     "data": {
      "text/plain": [
       "(torch.Size([2, 128]), torch.Size([]))"
      ]
     },
     "execution_count": 10,
     "metadata": {},
     "output_type": "execute_result"
    }
   ],
   "source": [
    "one_x, one_y = train_data[0]\n",
    "one_x.shape, one_y.shape"
   ]
  },
  {
   "cell_type": "code",
   "execution_count": 11,
   "metadata": {},
   "outputs": [],
   "source": [
    "NUM_EPOCHS = 50"
   ]
  },
  {
   "cell_type": "markdown",
   "metadata": {},
   "source": [
    "# **Baseline Model**"
   ]
  },
  {
   "cell_type": "code",
   "execution_count": 12,
   "metadata": {},
   "outputs": [
    {
     "name": "stdout",
     "output_type": "stream",
     "text": [
      "blModel(\n",
      "  (baseModel): Sequential(\n",
      "    (0): Conv1d(2, 64, kernel_size=(3,), stride=(1,), padding=(1,))\n",
      "    (1): BatchNorm1d(64, eps=1e-05, momentum=0.1, affine=True, track_running_stats=True)\n",
      "    (2): ReLU(inplace=True)\n",
      "    (3): MaxPool1d(kernel_size=2, stride=2, padding=0, dilation=1, ceil_mode=False)\n",
      "    (4): Conv1d(64, 64, kernel_size=(3,), stride=(1,), padding=(1,))\n",
      "    (5): BatchNorm1d(64, eps=1e-05, momentum=0.1, affine=True, track_running_stats=True)\n",
      "    (6): ReLU(inplace=True)\n",
      "    (7): MaxPool1d(kernel_size=2, stride=2, padding=0, dilation=1, ceil_mode=False)\n",
      "    (8): Conv1d(64, 64, kernel_size=(3,), stride=(1,), padding=(1,))\n",
      "    (9): BatchNorm1d(64, eps=1e-05, momentum=0.1, affine=True, track_running_stats=True)\n",
      "    (10): ReLU(inplace=True)\n",
      "  )\n",
      "  (longBranch): Sequential(\n",
      "    (0): Conv1d(64, 32, kernel_size=(3,), stride=(1,), padding=(1,))\n",
      "    (1): BatchNorm1d(32, eps=1e-05, momentum=0.1, affine=True, track_running_stats=True)\n",
      "    (2): ReLU(inplace=True)\n",
      "    (3): Conv1d(32, 32, kernel_size=(3,), stride=(1,), padding=(1,))\n",
      "    (4): BatchNorm1d(32, eps=1e-05, momentum=0.1, affine=True, track_running_stats=True)\n",
      "    (5): ReLU(inplace=True)\n",
      "    (6): Conv1d(32, 16, kernel_size=(3,), stride=(1,), padding=(1,))\n",
      "    (7): BatchNorm1d(16, eps=1e-05, momentum=0.1, affine=True, track_running_stats=True)\n",
      "    (8): ReLU(inplace=True)\n",
      "    (9): MaxPool1d(kernel_size=2, stride=2, padding=0, dilation=1, ceil_mode=False)\n",
      "    (10): Flatten(start_dim=1, end_dim=-1)\n",
      "    (11): Linear(in_features=256, out_features=256, bias=True)\n",
      "    (12): Dropout(p=0.5, inplace=False)\n",
      "    (13): Linear(in_features=256, out_features=64, bias=True)\n",
      "    (14): Dropout(p=0.5, inplace=False)\n",
      "    (15): Linear(in_features=64, out_features=10, bias=True)\n",
      "  )\n",
      ")\n"
     ]
    }
   ],
   "source": [
    "blNet = blModel()\n",
    "print(blNet)"
   ]
  },
  {
   "cell_type": "code",
   "execution_count": 13,
   "metadata": {},
   "outputs": [
    {
     "data": {
      "text/html": [
       "\n",
       "<style>\n",
       "    /* Turns off some styling */\n",
       "    progress {\n",
       "        /* gets rid of default border in Firefox and Opera. */\n",
       "        border: none;\n",
       "        /* Needs to be in here for Safari polyfill so background images work as expected. */\n",
       "        background-size: auto;\n",
       "    }\n",
       "    progress:not([value]), progress:not([value])::-webkit-progress-bar {\n",
       "        background: repeating-linear-gradient(45deg, #7e7e7e, #7e7e7e 10px, #5c5c5c 10px, #5c5c5c 20px);\n",
       "    }\n",
       "    .progress-bar-interrupted, .progress-bar-interrupted::-webkit-progress-bar {\n",
       "        background: #F44336;\n",
       "    }\n",
       "</style>\n"
      ],
      "text/plain": [
       "<IPython.core.display.HTML object>"
      ]
     },
     "metadata": {},
     "output_type": "display_data"
    },
    {
     "data": {
      "text/html": [
       "\n",
       "    <div>\n",
       "      <progress value='21' class='' max='50' style='width:300px; height:20px; vertical-align: middle;'></progress>\n",
       "      42.00% [21/50 07:51&lt;10:51]\n",
       "    </div>\n",
       "    \n",
       "Epoch: 1, train_loss: 1.4918, val_loss: 1.1622, multiclass_accuracy: 0.4878, time: 00:00:23<p>Epoch: 2, train_loss: 1.5000, val_loss: 1.1865, multiclass_accuracy: 0.4772, time: 00:00:22<p>Epoch: 3, train_loss: 1.4702, val_loss: 1.1311, multiclass_accuracy: 0.4943, time: 00:00:22<p>Epoch: 4, train_loss: 1.4897, val_loss: 1.1450, multiclass_accuracy: 0.4886, time: 00:00:23<p>Epoch: 5, train_loss: 1.4591, val_loss: 1.1278, multiclass_accuracy: 0.4957, time: 00:00:22<p>Epoch: 6, train_loss: 1.4744, val_loss: 1.1410, multiclass_accuracy: 0.4853, time: 00:00:22<p>Epoch: 7, train_loss: 1.4666, val_loss: 1.1246, multiclass_accuracy: 0.4980, time: 00:00:22<p>Epoch: 8, train_loss: 1.4768, val_loss: 1.1635, multiclass_accuracy: 0.4965, time: 00:00:22<p>Epoch: 9, train_loss: 1.4549, val_loss: 1.1202, multiclass_accuracy: 0.5002, time: 00:00:21<p>Epoch: 10, train_loss: 1.4646, val_loss: 1.1377, multiclass_accuracy: 0.4921, time: 00:00:21<p>Epoch: 11, train_loss: 1.4458, val_loss: 1.1197, multiclass_accuracy: 0.5015, time: 00:00:22<p>Epoch: 12, train_loss: 1.4542, val_loss: 1.1104, multiclass_accuracy: 0.4925, time: 00:00:22<p>Epoch: 13, train_loss: 1.4464, val_loss: 1.1157, multiclass_accuracy: 0.5024, time: 00:00:22<p>Epoch: 14, train_loss: 1.4654, val_loss: 1.1432, multiclass_accuracy: 0.4973, time: 00:00:22<p>Epoch: 15, train_loss: 1.4572, val_loss: 1.1201, multiclass_accuracy: 0.5017, time: 00:00:22<p>Epoch: 16, train_loss: 18743.7520, val_loss: 88.9201, multiclass_accuracy: 0.1651, time: 00:00:22<p>Epoch: 17, train_loss: 1.8009, val_loss: 1.7940, multiclass_accuracy: 0.1679, time: 00:00:23<p>Epoch: 18, train_loss: 1.7924, val_loss: 1.7918, multiclass_accuracy: 0.1679, time: 00:00:21<p>Epoch: 19, train_loss: 1.7917, val_loss: 1.7918, multiclass_accuracy: 0.1679, time: 00:00:22<p>Epoch: 20, train_loss: 1.7918, val_loss: 1.7919, multiclass_accuracy: 0.1651, time: 00:00:22<p>Epoch: 21, train_loss: 1.7918, val_loss: 1.7918, multiclass_accuracy: 0.1651, time: 00:00:23<p>\n",
       "\n",
       "    <div>\n",
       "      <progress value='1575' class='' max='1575' style='width:300px; height:20px; vertical-align: middle;'></progress>\n",
       "      100.00% [1575/1575 00:05&lt;00:00]\n",
       "    </div>\n",
       "    "
      ],
      "text/plain": [
       "<IPython.core.display.HTML object>"
      ]
     },
     "metadata": {},
     "output_type": "display_data"
    },
    {
     "name": "stdout",
     "output_type": "stream",
     "text": [
      "Better model found at epoch 0 with val_loss value: 1.162156581878662.\n",
      "Better model found at epoch 2 with val_loss value: 1.1311416625976562.\n",
      "Better model found at epoch 4 with val_loss value: 1.1277977228164673.\n",
      "Better model found at epoch 6 with val_loss value: 1.1245514154434204.\n",
      "Better model found at epoch 8 with val_loss value: 1.1201951503753662.\n",
      "Better model found at epoch 10 with val_loss value: 1.119691014289856.\n",
      "Better model found at epoch 11 with val_loss value: 1.110368013381958.\n",
      "Reducing LR to 0.0001.\n",
      "Reducing LR to 1e-05.\n",
      "Reducing LR to 1.0000000000000002e-06.\n",
      "Stopping training at epoch 21 with val_loss value: 1.8540574312210083.\n",
      "\n",
      "\n",
      "Training completed\n",
      "\n",
      "\n"
     ]
    },
    {
     "data": {
      "text/html": [
       "\n",
       "<style>\n",
       "    /* Turns off some styling */\n",
       "    progress {\n",
       "        /* gets rid of default border in Firefox and Opera. */\n",
       "        border: none;\n",
       "        /* Needs to be in here for Safari polyfill so background images work as expected. */\n",
       "        background-size: auto;\n",
       "    }\n",
       "    progress:not([value]), progress:not([value])::-webkit-progress-bar {\n",
       "        background: repeating-linear-gradient(45deg, #7e7e7e, #7e7e7e 10px, #5c5c5c 10px, #5c5c5c 20px);\n",
       "    }\n",
       "    .progress-bar-interrupted, .progress-bar-interrupted::-webkit-progress-bar {\n",
       "        background: #F44336;\n",
       "    }\n",
       "</style>\n"
      ],
      "text/plain": [
       "<IPython.core.display.HTML object>"
      ]
     },
     "metadata": {},
     "output_type": "display_data"
    },
    {
     "data": {
      "text/html": [],
      "text/plain": [
       "<IPython.core.display.HTML object>"
      ]
     },
     "metadata": {},
     "output_type": "display_data"
    },
    {
     "name": "stdout",
     "output_type": "stream",
     "text": [
      "Validation Loss: 1.11035 Multiclass Accuracy: 0.494\n",
      "Model saved at: Models/blModel.pt\n"
     ]
    }
   ],
   "source": [
    "hdl = Handler(blNet, nepochs=NUM_EPOCHS, crit=cross_entropy,\n",
    "              sch=\"cosine\", modelPath='./Models/', modelName=\"blModel\")\n",
    "hdl.train(train_data, val_data, bs=64, lr=1e-3,\n",
    "          wd=1e-4, metric_name='val_loss')"
   ]
  },
  {
   "cell_type": "markdown",
   "metadata": {},
   "source": [
    "# **EE Model**"
   ]
  },
  {
   "cell_type": "code",
   "execution_count": 14,
   "metadata": {},
   "outputs": [
    {
     "name": "stdout",
     "output_type": "stream",
     "text": [
      "Number of base parameters: 576\n",
      "Number of short branch parameters: 68010\n",
      "Number of long branch parameters: 118842\n",
      "Difference = 50832\n",
      "eeModel_V0(\n",
      "  (baseModel): Sequential(\n",
      "    (0): Conv1d(2, 64, kernel_size=(3,), stride=(1,), padding=(1,))\n",
      "    (1): BatchNorm1d(64, eps=1e-05, momentum=0.1, affine=True, track_running_stats=True)\n",
      "    (2): ReLU(inplace=True)\n",
      "    (3): MaxPool1d(kernel_size=2, stride=2, padding=0, dilation=1, ceil_mode=False)\n",
      "  )\n",
      "  (shortBranch): Sequential(\n",
      "    (0): MaxPool1d(kernel_size=4, stride=4, padding=0, dilation=1, ceil_mode=False)\n",
      "    (1): Flatten(start_dim=1, end_dim=-1)\n",
      "    (2): Linear(in_features=1024, out_features=64, bias=True)\n",
      "    (3): Dropout(p=0.5, inplace=False)\n",
      "    (4): Linear(in_features=64, out_features=32, bias=True)\n",
      "    (5): Dropout(p=0.5, inplace=False)\n",
      "    (6): Linear(in_features=32, out_features=10, bias=True)\n",
      "  )\n",
      "  (longBranch): Sequential(\n",
      "    (0): Conv1d(64, 64, kernel_size=(3,), stride=(1,), padding=(1,))\n",
      "    (1): BatchNorm1d(64, eps=1e-05, momentum=0.1, affine=True, track_running_stats=True)\n",
      "    (2): ReLU(inplace=True)\n",
      "    (3): MaxPool1d(kernel_size=2, stride=2, padding=0, dilation=1, ceil_mode=False)\n",
      "    (4): Conv1d(64, 64, kernel_size=(3,), stride=(1,), padding=(1,))\n",
      "    (5): BatchNorm1d(64, eps=1e-05, momentum=0.1, affine=True, track_running_stats=True)\n",
      "    (6): ReLU(inplace=True)\n",
      "    (7): Conv1d(64, 32, kernel_size=(3,), stride=(1,), padding=(1,))\n",
      "    (8): BatchNorm1d(32, eps=1e-05, momentum=0.1, affine=True, track_running_stats=True)\n",
      "    (9): ReLU(inplace=True)\n",
      "    (10): Conv1d(32, 32, kernel_size=(3,), stride=(1,), padding=(1,))\n",
      "    (11): BatchNorm1d(32, eps=1e-05, momentum=0.1, affine=True, track_running_stats=True)\n",
      "    (12): ReLU(inplace=True)\n",
      "    (13): Conv1d(32, 16, kernel_size=(3,), stride=(1,), padding=(1,))\n",
      "    (14): BatchNorm1d(16, eps=1e-05, momentum=0.1, affine=True, track_running_stats=True)\n",
      "    (15): ReLU(inplace=True)\n",
      "    (16): MaxPool1d(kernel_size=2, stride=2, padding=0, dilation=1, ceil_mode=False)\n",
      "    (17): Flatten(start_dim=1, end_dim=-1)\n",
      "    (18): Linear(in_features=256, out_features=256, bias=True)\n",
      "    (19): Dropout(p=0.5, inplace=False)\n",
      "    (20): Linear(in_features=256, out_features=64, bias=True)\n",
      "    (21): Dropout(p=0.5, inplace=False)\n",
      "    (22): Linear(in_features=64, out_features=10, bias=True)\n",
      "  )\n",
      ")\n"
     ]
    },
    {
     "data": {
      "text/plain": [
       "(torch.Size([1, 10]), torch.Size([1, 10]))"
      ]
     },
     "execution_count": 14,
     "metadata": {},
     "output_type": "execute_result"
    }
   ],
   "source": [
    "eev0Net = eeModel_V0()\n",
    "print(eev0Net)\n",
    "\n",
    "one_y1, one_y2 = eev0Net(one_x.unsqueeze(0))\n",
    "one_y1.shape, one_y2.shape"
   ]
  },
  {
   "cell_type": "code",
   "execution_count": 15,
   "metadata": {},
   "outputs": [],
   "source": [
    "def loss_func(outputs, target, reduction=\"mean\"):\n",
    "    out1, out2 = outputs\n",
    "    return cross_entropy(out1, target, reduction=reduction) + cross_entropy(out2, target, reduction=reduction)\n",
    "\n",
    "\n",
    "def accuracy(outputs, target):\n",
    "    out1, out2 = outputs\n",
    "    return (multiclass_accuracy(out1, target) + multiclass_accuracy(out2, target)) / 2"
   ]
  },
  {
   "cell_type": "code",
   "execution_count": 16,
   "metadata": {},
   "outputs": [
    {
     "data": {
      "text/html": [
       "\n",
       "<style>\n",
       "    /* Turns off some styling */\n",
       "    progress {\n",
       "        /* gets rid of default border in Firefox and Opera. */\n",
       "        border: none;\n",
       "        /* Needs to be in here for Safari polyfill so background images work as expected. */\n",
       "        background-size: auto;\n",
       "    }\n",
       "    progress:not([value]), progress:not([value])::-webkit-progress-bar {\n",
       "        background: repeating-linear-gradient(45deg, #7e7e7e, #7e7e7e 10px, #5c5c5c 10px, #5c5c5c 20px);\n",
       "    }\n",
       "    .progress-bar-interrupted, .progress-bar-interrupted::-webkit-progress-bar {\n",
       "        background: #F44336;\n",
       "    }\n",
       "</style>\n"
      ],
      "text/plain": [
       "<IPython.core.display.HTML object>"
      ]
     },
     "metadata": {},
     "output_type": "display_data"
    },
    {
     "data": {
      "text/html": [
       "\n",
       "    <div>\n",
       "      <progress value='14' class='' max='50' style='width:300px; height:20px; vertical-align: middle;'></progress>\n",
       "      28.00% [14/50 05:54&lt;15:10]\n",
       "    </div>\n",
       "    \n",
       "Epoch: 1, train_loss: 3.2855, val_loss: 2.9516, accuracy: 0.3295, time: 00:00:24<p>Epoch: 2, train_loss: 3.2949, val_loss: 2.9769, accuracy: 0.3295, time: 00:00:25<p>Epoch: 3, train_loss: 3.2490, val_loss: 2.9165, accuracy: 0.3403, time: 00:00:25<p>Epoch: 4, train_loss: 3.2462, val_loss: 2.8488, accuracy: 0.3670, time: 00:00:25<p>Epoch: 5, train_loss: 3.1536, val_loss: 2.6953, accuracy: 0.3828, time: 00:00:25<p>Epoch: 6, train_loss: 3.1713, val_loss: 2.7112, accuracy: 0.3775, time: 00:00:26<p>Epoch: 7, train_loss: 3.1092, val_loss: 2.7421, accuracy: 0.3866, time: 00:00:25<p>Epoch: 8, train_loss: 3.1462, val_loss: 2.7692, accuracy: 0.3730, time: 00:00:24<p>Epoch: 9, train_loss: 3.0953, val_loss: 2.7829, accuracy: 0.3894, time: 00:00:24<p>Epoch: 10, train_loss: 3.1331, val_loss: 2.8247, accuracy: 0.3835, time: 00:00:25<p>Epoch: 11, train_loss: 3.0843, val_loss: 2.7675, accuracy: 0.3919, time: 00:00:25<p>Epoch: 12, train_loss: 7684192993280.0000, val_loss: 20941845299200.0000, accuracy: 0.0942, time: 00:00:25<p>Epoch: 13, train_loss: 63943.2812, val_loss: 65040.4258, accuracy: 0.1671, time: 00:00:25<p>Epoch: 14, train_loss: 65928.2969, val_loss: 64690.7188, accuracy: 0.1676, time: 00:00:25<p>\n",
       "\n",
       "    <div>\n",
       "      <progress value='1575' class='' max='1575' style='width:300px; height:20px; vertical-align: middle;'></progress>\n",
       "      100.00% [1575/1575 00:05&lt;00:00]\n",
       "    </div>\n",
       "    "
      ],
      "text/plain": [
       "<IPython.core.display.HTML object>"
      ]
     },
     "metadata": {},
     "output_type": "display_data"
    },
    {
     "name": "stdout",
     "output_type": "stream",
     "text": [
      "Better model found at epoch 0 with val_loss value: 2.9515748023986816.\n",
      "Better model found at epoch 2 with val_loss value: 2.9164535999298096.\n",
      "Better model found at epoch 3 with val_loss value: 2.8487679958343506.\n",
      "Better model found at epoch 4 with val_loss value: 2.695314407348633.\n",
      "Reducing LR to 0.0001.\n",
      "Reducing LR to 1e-05.\n",
      "Reducing LR to 1.0000000000000002e-06.\n",
      "Stopping training at epoch 14 with val_loss value: 64881.41015625.\n",
      "\n",
      "\n",
      "Training completed\n",
      "\n",
      "\n"
     ]
    },
    {
     "data": {
      "text/html": [
       "\n",
       "<style>\n",
       "    /* Turns off some styling */\n",
       "    progress {\n",
       "        /* gets rid of default border in Firefox and Opera. */\n",
       "        border: none;\n",
       "        /* Needs to be in here for Safari polyfill so background images work as expected. */\n",
       "        background-size: auto;\n",
       "    }\n",
       "    progress:not([value]), progress:not([value])::-webkit-progress-bar {\n",
       "        background: repeating-linear-gradient(45deg, #7e7e7e, #7e7e7e 10px, #5c5c5c 10px, #5c5c5c 20px);\n",
       "    }\n",
       "    .progress-bar-interrupted, .progress-bar-interrupted::-webkit-progress-bar {\n",
       "        background: #F44336;\n",
       "    }\n",
       "</style>\n"
      ],
      "text/plain": [
       "<IPython.core.display.HTML object>"
      ]
     },
     "metadata": {},
     "output_type": "display_data"
    },
    {
     "data": {
      "text/html": [],
      "text/plain": [
       "<IPython.core.display.HTML object>"
      ]
     },
     "metadata": {},
     "output_type": "display_data"
    },
    {
     "name": "stdout",
     "output_type": "stream",
     "text": [
      "Validation Loss: 2.69604 Accuracy: 0.383\n",
      "Model saved at: Models/eev0Model.pt\n"
     ]
    }
   ],
   "source": [
    "hdl = Handler(eev0Net, nepochs=NUM_EPOCHS, crit=loss_func,\n",
    "              sch=\"cosine\", metrics=[accuracy], modelPath='./Models/', modelName=\"eev0Model\")\n",
    "hdl.train(train_data, val_data, bs=64, lr=1e-3,\n",
    "          wd=1e-4, metric_name=\"val_loss\")"
   ]
  }
 ],
 "metadata": {
  "kernelspec": {
   "display_name": "venv",
   "language": "python",
   "name": "python3"
  },
  "language_info": {
   "codemirror_mode": {
    "name": "ipython",
    "version": 3
   },
   "file_extension": ".py",
   "mimetype": "text/x-python",
   "name": "python",
   "nbconvert_exporter": "python",
   "pygments_lexer": "ipython3",
   "version": "3.10.12"
  }
 },
 "nbformat": 4,
 "nbformat_minor": 2
}
